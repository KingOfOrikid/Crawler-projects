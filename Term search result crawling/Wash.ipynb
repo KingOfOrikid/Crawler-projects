{
 "cells": [
  {
   "cell_type": "markdown",
   "metadata": {},
   "source": [
    "for raw data"
   ]
  },
  {
   "cell_type": "code",
   "execution_count": 1,
   "metadata": {},
   "outputs": [],
   "source": [
    "import json\n",
    "with open('data2.json','r', encoding=\"utf-8\") as f:\n",
    "    raw= json.load(f)"
   ]
  },
  {
   "cell_type": "code",
   "execution_count": 2,
   "metadata": {},
   "outputs": [
    {
     "name": "stdout",
     "output_type": "stream",
     "text": [
      "<class 'dict'>\n",
      "['0', '1', '2', '3', '4']\n"
     ]
    }
   ],
   "source": [
    "print(type(raw))\n",
    "print(list(raw.keys())[:5])"
   ]
  },
  {
   "cell_type": "markdown",
   "metadata": {},
   "source": [
    "for washed data"
   ]
  },
  {
   "cell_type": "code",
   "execution_count": 4,
   "metadata": {},
   "outputs": [],
   "source": [
    "with open('wash1.json','r', encoding=\"utf-8\") as f:\n",
    "    wash= json.load(f)"
   ]
  },
  {
   "cell_type": "code",
   "execution_count": 5,
   "metadata": {},
   "outputs": [
    {
     "data": {
      "text/plain": [
       "{'定义', '定义来源', '术语来源', '缩写'}"
      ]
     },
     "execution_count": 5,
     "metadata": {},
     "output_type": "execute_result"
    }
   ],
   "source": [
    "set_keyword = set()\n",
    "for item in wash:\n",
    "    for each_explain in wash[item]:\n",
    "        temp_set = set(list(each_explain.keys()))\n",
    "        set_keyword = set_keyword | temp_set\n",
    "set_keyword"
   ]
  },
  {
   "cell_type": "markdown",
   "metadata": {},
   "source": [
    "wash process"
   ]
  },
  {
   "cell_type": "code",
   "execution_count": 3,
   "metadata": {},
   "outputs": [],
   "source": [
    "import string\n",
    "def if_sup_sub(str, sub_str):\n",
    "    \"\"\"\n",
    "    premise:\n",
    "        如果这个带上下标的word在最后，或者后面是逗号句号空格\n",
    "        标记为@@@\n",
    "    \"\"\"\n",
    "    \"\"\"\n",
    "    length = len(str)\n",
    "    find_all_ls = []\n",
    "    result = re.finditer(pat,s)\n",
    "    for i in result:\n",
    "        find_all_ls.append(i.span())\n",
    "    # find_all_ls: [(7, 13),(25, 31)]\n",
    "\n",
    "    find_all_ls_filter = []\n",
    "    for idx in find_all_ls:\n",
    "        # 判断是不是句子的最后\n",
    "        if idx[-1] == length:\n",
    "            find_all_ls_filter.append(idx)\n",
    "        # 判断句子后面是不是符号\n",
    "        if str[idx[-1]] in string.punctuation:\n",
    "            find_all_ls_filter.append(idx)\n",
    "\n",
    "    find_all_ls_filter = sorted(find_all_ls_filter)\n",
    "\n",
    "    if len(find_all_ls_filter) >= 1:\n",
    "        return find_all_ls_filter\n",
    "    else:\n",
    "        return False # 没找到\n",
    "    \"\"\"\n",
    "    ori_str = str[:]\n",
    "    str = str.replace(sub_str+'.',\"@@@\"+sub_str+'.')\n",
    "    str = str.replace(sub_str+';',\"@@@\"+sub_str+';')\n",
    "    str = str.replace(sub_str+',',\"@@@\"+sub_str+',')\n",
    "    str = str.replace(sub_str+' ',\"@@@\"+sub_str+' ')\n",
    "    str = str.replace(sub_str+'\"',\"@@@\"+sub_str+'\"')\n",
    "    str = str.replace(sub_str+':',\"@@@\"+sub_str+':')\n",
    "    \n",
    "    if str[-len(sub_str):] == sub_str:\n",
    "        str = str[:-len(sub_str)] + \"@@@\" + str[-len(sub_str):]\n",
    "\n",
    "    if ori_str != str: # 如果改变\n",
    "        return str\n",
    "        \n",
    "    else:\n",
    "        if len(sub_str) == 1:\n",
    "            return False # 如果substr长度=1，并且不出现在末尾，那么不改变\n",
    "        return True # 直接replace改\n",
    "\n",
    "\n",
    "def replace_with_sup_sub(str, sub_Str, sup = True):\n",
    "    if sup == True:\n",
    "        sup_sub = \"sup\"\n",
    "    else:\n",
    "        sup_sub = \"sub\"\n",
    "\n",
    "    str_sign = if_sup_sub(str, sub_Str)\n",
    "    if str_sign == False:\n",
    "        return str\n",
    "    if str_sign == True:\n",
    "        return str.replace(sub_Str, \"(\" + sup_sub + \" \" + sub_Str + \")\")\n",
    "        \n",
    "\n",
    "\n",
    "    res_str = str_sign.replace(\"@@@\" + sub_Str, \"(\" + sup_sub + \" \" + sub_Str + \")\")\n",
    "\n",
    "    res_str = res_str.replace(\"@@@\", \"\")\n",
    "    \n",
    "    return res_str"
   ]
  },
  {
   "cell_type": "code",
   "execution_count": 15,
   "metadata": {},
   "outputs": [],
   "source": [
    "def seperate_type(a):\n",
    "\n",
    "    if type(a) == str:\n",
    "        if a[0] == 'I':\n",
    "            return \"术语来源\"\n",
    "        else:\n",
    "            print(\"ERROR1\")\n",
    "            # print(a)\n",
    "    \n",
    "    with_link = False\n",
    "    if type(a) == list:\n",
    "        if len(a) == 4:\n",
    "            with_link = True\n",
    "\n",
    "        if \"SOURCE: \" in a[0]:\n",
    "            return \"定义来源\", with_link\n",
    "        elif a[0].isupper():\n",
    "            return \"缩写\", with_link\n",
    "        else:\n",
    "            return \"定义\", with_link\n",
    "    else:\n",
    "        print(\"ERROR1\")\n",
    "\n",
    "def handle_dingyi_source(str):\n",
    "    str = str.replace(\"[SOURCE: \", \"\")\n",
    "    str = str.replace(\"SOURCE: \", \"\")\n",
    "\n",
    "    str = str.replace(\"]\", \"\")\n",
    "    return str"
   ]
  },
  {
   "cell_type": "code",
   "execution_count": 8,
   "metadata": {},
   "outputs": [],
   "source": [
    "import copy\n",
    "def handle_each_ls_from_sub_sup(explain):\n",
    "    res = explain[0]\n",
    "\n",
    "    if len(explain[1]) != 0:\n",
    "        for subitem in explain[1]: # sup\n",
    "            res = replace_with_sup_sub(res, subitem, sup=True)\n",
    "    \n",
    "    if len(explain[2]) != 0:\n",
    "        for subitem in explain[2]: # sub\n",
    "            res = replace_with_sup_sub(res, subitem, sup=False)\n",
    "            \n",
    "    return res\n",
    "\n",
    "def detect_none(s):\n",
    "    if s == None:\n",
    "        return True\n",
    "    if type(s) == list:\n",
    "        if s[0] == None:\n",
    "            return True"
   ]
  },
  {
   "cell_type": "code",
   "execution_count": 22,
   "metadata": {},
   "outputs": [],
   "source": [
    "dic = {}\n",
    "\n",
    "# initualization\n",
    "for each_page in raw:\n",
    "    for each_term in raw[each_page]:\n",
    "        dic[each_term] = []\n",
    "\n",
    "error = 0\n",
    "\n",
    "for each_page in raw:\n",
    "    for each_term in raw[each_page]:\n",
    "        \n",
    "        term_dic = {}\n",
    "\n",
    "        for each_explain in raw[each_page][each_term]:\n",
    "            # print(each_explain)\n",
    "            if detect_none(each_explain): \n",
    "                error+= 1\n",
    "                continue\n",
    "            \n",
    "            explain_type = seperate_type(each_explain)\n",
    "            \n",
    "            if explain_type == \"术语来源\":\n",
    "                term_dic[\"术语来源\"] = each_explain\n",
    "\n",
    "            if explain_type[-1] == True:\n",
    "                term_dic[\"图片地址\"] = each_explain[-1]\n",
    "\n",
    "            if explain_type[0] == \"定义来源\":\n",
    "                dingyi_source = handle_dingyi_source(each_explain[0])\n",
    "                term_dic[\"定义来源\"] = dingyi_source\n",
    "            \n",
    "            if explain_type[0] == \"定义\":\n",
    "                dingyi = handle_each_ls_from_sub_sup(each_explain)\n",
    "\n",
    "                if \"定义\" in term_dic:\n",
    "                    term_dic[\"定义\"].append(dingyi)\n",
    "                else:\n",
    "                    term_dic[\"定义\"] = [dingyi]\n",
    "\n",
    "            if explain_type[0] == \"缩写\":\n",
    "                suoxie = handle_each_ls_from_sub_sup(each_explain)\n",
    "                term_dic[\"缩写\"] = suoxie\n",
    "            \n",
    "            \n",
    "        dic[each_term].append(term_dic)"
   ]
  },
  {
   "cell_type": "code",
   "execution_count": 23,
   "metadata": {},
   "outputs": [
    {
     "data": {
      "text/plain": [
       "1"
      ]
     },
     "execution_count": 23,
     "metadata": {},
     "output_type": "execute_result"
    }
   ],
   "source": [
    "error"
   ]
  },
  {
   "cell_type": "code",
   "execution_count": 10,
   "metadata": {},
   "outputs": [],
   "source": [
    "def connect_Str(ls):\n",
    "    str_res = \"\"\n",
    "    for i in ls:\n",
    "        str_res += i\n",
    "    return str_res"
   ]
  },
  {
   "cell_type": "code",
   "execution_count": 24,
   "metadata": {},
   "outputs": [],
   "source": [
    "# 去除重合\n",
    "dic_filter = {}\n",
    "\n",
    "# initualization\n",
    "for each_page in raw:\n",
    "    for each_term in raw[each_page]:\n",
    "        dic_filter[each_term] = []\n",
    "\n",
    "cnt = 0\n",
    "for item in dic:\n",
    "    if len(dic[item]) > 1:\n",
    "\n",
    "        set_definition = set()\n",
    "        \n",
    "        for i in range(len(dic[item])):\n",
    "            if \"定义\" not in dic[item][i]:\n",
    "                # print(dic[item][i])\n",
    "                # print(\"--\"*20)\n",
    "                cnt += 1\n",
    "                dic_filter[item].append(dic[item][i])\n",
    "                continue\n",
    "            if connect_Str(dic[item][i][\"定义\"]) not in set_definition:\n",
    "                set_definition.add(connect_Str(dic[item][i][\"定义\"]))\n",
    "                dic_filter[item].append(dic[item][i])\n",
    "\n",
    "    else:\n",
    "        dic_filter[item] = dic[item]\n",
    "\n",
    "\n"
   ]
  },
  {
   "cell_type": "code",
   "execution_count": 25,
   "metadata": {},
   "outputs": [
    {
     "data": {
      "text/plain": [
       "899"
      ]
     },
     "execution_count": 25,
     "metadata": {},
     "output_type": "execute_result"
    }
   ],
   "source": [
    "cnt"
   ]
  },
  {
   "cell_type": "code",
   "execution_count": 26,
   "metadata": {},
   "outputs": [],
   "source": [
    "with open('wash_2_select.json','w',encoding='utf-8') as file_obj:\n",
    "    json.dump(dic_filter,file_obj,ensure_ascii=False,indent = 4)"
   ]
  },
  {
   "cell_type": "code",
   "execution_count": null,
   "metadata": {},
   "outputs": [],
   "source": []
  }
 ],
 "metadata": {
  "kernelspec": {
   "display_name": "Python 3 (ipykernel)",
   "language": "python",
   "name": "python3"
  },
  "language_info": {
   "codemirror_mode": {
    "name": "ipython",
    "version": 3
   },
   "file_extension": ".py",
   "mimetype": "text/x-python",
   "name": "python",
   "nbconvert_exporter": "python",
   "pygments_lexer": "ipython3",
   "version": "3.9.7"
  },
  "vscode": {
   "interpreter": {
    "hash": "1b1fa51d09f49f0171a2a5409292615c7621c874dc9c909c14f26133854c23a0"
   }
  }
 },
 "nbformat": 4,
 "nbformat_minor": 2
}
