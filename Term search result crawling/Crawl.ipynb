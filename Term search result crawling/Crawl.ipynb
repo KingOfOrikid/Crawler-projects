{
 "cells": [
  {
   "cell_type": "code",
   "execution_count": 1,
   "id": "8976f39f",
   "metadata": {},
   "outputs": [],
   "source": [
    "import time\n",
    "from selenium.webdriver.common.by import By\n",
    "from selenium.webdriver.support.ui import Select\n",
    "\n",
    "from selenium import webdriver\n",
    "from selenium.webdriver.common.keys import Keys\n",
    "from webdriver_manager.chrome import ChromeDriverManager\n",
    "import json"
   ]
  },
  {
   "attachments": {},
   "cell_type": "markdown",
   "id": "4c2d9747",
   "metadata": {},
   "source": [
    "https://chromedriver.chromium.org/downloads\n",
    "找到跟自己chrome浏览器适配的chromedrive 放到chrome的文件夹里\n",
    "https://blog.csdn.net/kun_csdn/article/details/124267821"
   ]
  },
  {
   "cell_type": "code",
   "execution_count": 36,
   "id": "142f887f",
   "metadata": {},
   "outputs": [],
   "source": [
    "#打开浏览器\n",
    "browser = webdriver.Chrome()\n",
    "browser.set_window_size(900,1000) \n",
    "\n",
    "#打开链接\n",
    "browser.get(r'https://www.iso.org/obp/ui/#search')"
   ]
  },
  {
   "cell_type": "code",
   "execution_count": 57,
   "id": "52b048a2",
   "metadata": {},
   "outputs": [],
   "source": [
    "# 点击Terms&Definitions 链接\n",
    "browser.find_element(By.ID,'gwt-uid-11').click()"
   ]
  },
  {
   "cell_type": "code",
   "execution_count": 58,
   "id": "8c8a1f3e",
   "metadata": {},
   "outputs": [],
   "source": [
    "#点击search\n",
    "browser.find_element(By.XPATH,'//*[@id=\"obpui-105541713\"]/div/div[2]/div/div/div[2]/div/div/div[2]/div/div/div/div/div/div[2]/div/div[2]/div/div[2]/div/div/div[4]/div/span/span').click()"
   ]
  },
  {
   "cell_type": "code",
   "execution_count": 60,
   "id": "1cf59acd",
   "metadata": {},
   "outputs": [],
   "source": [
    "s1 = Select(browser.find_element_by_class_name('v-select-select'))  # 实例化Select"
   ]
  },
  {
   "cell_type": "code",
   "execution_count": 61,
   "id": "68cf132d",
   "metadata": {},
   "outputs": [],
   "source": [
    "s1.select_by_value(\"8\")  # 选择value=\"8\"的项 也就是300个一页"
   ]
  },
  {
   "cell_type": "markdown",
   "id": "c91543b0",
   "metadata": {},
   "source": [
    "## 爬"
   ]
  },
  {
   "cell_type": "code",
   "execution_count": null,
   "id": "b21dd2a3",
   "metadata": {},
   "outputs": [],
   "source": [
    "filename='data.json'\n",
    "data={}"
   ]
  },
  {
   "cell_type": "code",
   "execution_count": 80,
   "id": "b2394854",
   "metadata": {
    "scrolled": true
   },
   "outputs": [
    {
     "name": "stdout",
     "output_type": "stream",
     "text": [
      "890\n",
      "891\n",
      "892\n",
      "893\n",
      "894\n",
      "895\n",
      "896\n",
      "897\n",
      "898\n",
      "899\n",
      "900\n",
      "901\n",
      "902\n",
      "903\n",
      "904\n",
      "905\n",
      "906\n",
      "907\n",
      "908\n",
      "909\n",
      "910\n",
      "911\n",
      "912\n",
      "913\n",
      "914\n",
      "915\n",
      "916\n",
      "917\n",
      "918\n",
      "919\n",
      "920\n",
      "921\n",
      "922\n",
      "923\n",
      "924\n",
      "925\n",
      "926\n",
      "927\n",
      "928\n",
      "929\n",
      "930\n",
      "931\n",
      "932\n",
      "933\n",
      "934\n",
      "935\n",
      "936\n",
      "937\n",
      "938\n",
      "939\n",
      "940\n",
      "941\n",
      "942\n",
      "943\n",
      "944\n",
      "945\n",
      "946\n",
      "947\n",
      "948\n",
      "949\n",
      "950\n",
      "951\n",
      "952\n",
      "953\n",
      "954\n",
      "955\n",
      "956\n",
      "957\n",
      "958\n",
      "959\n",
      "960\n",
      "961\n",
      "962\n",
      "963\n",
      "964\n",
      "965\n",
      "966\n",
      "967\n",
      "968\n",
      "969\n",
      "970\n",
      "971\n",
      "972\n",
      "973\n",
      "974\n",
      "975\n",
      "976\n",
      "977\n",
      "978\n",
      "979\n",
      "980\n",
      "981\n",
      "982\n",
      "983\n",
      "984\n",
      "985\n",
      "986\n",
      "987\n",
      "988\n",
      "989\n"
     ]
    }
   ],
   "source": [
    "#循环页数 不知道一共多少页 range从0开始，每爬一次存一次 这样每断一次可以手动操控browser页面重新开始\n",
    "#（一般来说断了只要重新运行或者把browser往后翻一页，然后重新设置range的数值）\n",
    "for i in range(890,990):\n",
    "    con={}\n",
    "    #循环每页的个数 每页\n",
    "    for j in range(0,300):\n",
    "        path = '//*[@id=\"obpui-105541713\"]/div/div[2]/div/div/div[2]/div/div/div[2]/div/div/div/div/div/div[2]/div/div[2]/div/div/div[2]/div/div[1]/div['+str(j+1)\n",
    "        #术语名\n",
    "        name_path = path + ']/div[1]/div/div[1]/div[1]'\n",
    "        name = browser.find_element(By.XPATH,name_path).text\n",
    "        temp = []\n",
    "        \n",
    "        time.sleep(1)\n",
    "        #术语内容\n",
    "        for count in range(2,12):\n",
    "            con_path = path + ']/div[1]/div/div[1]/div[' + str(count) +']'\n",
    "            try:\n",
    "                content = browser.find_element(By.XPATH,con_path).text\n",
    "                #图片链接\n",
    "                try:\n",
    "                    link = browser.find_element(By.XPATH,con_path+'/div/img').get_attribute(\"src\")\n",
    "                except:\n",
    "                    try:\n",
    "                        link = browser.find_element(By.XPATH,con_path+'/img').get_attribute(\"src\")\n",
    "                    except:\n",
    "                        link = ''\n",
    "            except:\n",
    "                break\n",
    "            sup_temp = browser.find_element(By.XPATH,con_path).find_elements_by_tag_name('sup')\n",
    "            sup = []\n",
    "            for s in sup_temp:\n",
    "                sup.append(s.text)\n",
    "            sub_temp = browser.find_element(By.XPATH,con_path).find_elements_by_tag_name('sub')\n",
    "            sub = []\n",
    "            for s in sub_temp:\n",
    "                sub.append(s.text)\n",
    "\n",
    "            if link != '':\n",
    "                temp.append([content,sup,sub,link])\n",
    "            else:\n",
    "                temp.append([content,sup,sub])\n",
    "            \n",
    "        #术语来源\n",
    "        source_path = path + ']/div[1]/div/div[2]/div[1]/div[1]/div'\n",
    "        temp.append(browser.find_element(By.XPATH,source_path).text)\n",
    "        \n",
    "        con[name] = temp\n",
    "                \n",
    "    data[str(i)]=con\n",
    "    #下一页\n",
    "    try:\n",
    "        browser.find_element(By.XPATH,'//*[@id=\"obpui-105541713\"]/div/div[2]/div/div/div[2]/div/div/div[2]/div/div/div/div/div/div[2]/div/div[2]/div/div/div[2]/div/div[2]/div[12]/span').click()\n",
    "    except:\n",
    "        try:\n",
    "            browser.find_element(By.XPATH,'//*[@id=\"obpui-105541713\"]/div/div[2]/div/div/div[2]/div/div/div[2]/div/div/div/div/div/div[2]/div/div[2]/div/div/div[2]/div/div[2]/div[11]/span').click()\n",
    "        except:\n",
    "            print('error:',i)\n",
    "            break\n",
    "    \n",
    "    time.sleep(15)\n",
    "    with open(filename,'w',encoding='utf-8') as file_obj:\n",
    "        json.dump(data,file_obj,ensure_ascii=False,indent = 4)\n",
    "            \n",
    "    print(i)\n",
    "    \n",
    "with open(filename,'w',encoding='utf-8') as file_obj:\n",
    "    json.dump(data,file_obj,ensure_ascii=False,indent = 4)"
   ]
  },
  {
   "cell_type": "code",
   "execution_count": 35,
   "id": "7be67108",
   "metadata": {},
   "outputs": [],
   "source": [
    "# 关闭浏览器\n",
    "browser.close()"
   ]
  }
 ],
 "metadata": {
  "kernelspec": {
   "display_name": "Python 3 (ipykernel)",
   "language": "python",
   "name": "python3"
  },
  "language_info": {
   "codemirror_mode": {
    "name": "ipython",
    "version": 3
   },
   "file_extension": ".py",
   "mimetype": "text/x-python",
   "name": "python",
   "nbconvert_exporter": "python",
   "pygments_lexer": "ipython3",
   "version": "3.9.7"
  }
 },
 "nbformat": 4,
 "nbformat_minor": 5
}
