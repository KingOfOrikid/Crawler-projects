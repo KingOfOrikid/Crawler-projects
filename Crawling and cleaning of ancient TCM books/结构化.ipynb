{
 "cells": [
  {
   "cell_type": "code",
   "execution_count": 2,
   "metadata": {},
   "outputs": [],
   "source": [
    "import requests\n",
    "from bs4 import BeautifulSoup\n",
    "import re\n",
    "import time\n",
    "import copy\n",
    "import json\n",
    "import pandas as pd"
   ]
  },
  {
   "cell_type": "code",
   "execution_count": 19,
   "metadata": {},
   "outputs": [],
   "source": [
    "#读取json中爬取的数据\n",
    "with open('不特殊4.30_2.json',encoding=\"utf-8\") as file_obj:\n",
    "    dic=json.load(file_obj)"
   ]
  },
  {
   "cell_type": "code",
   "execution_count": 20,
   "metadata": {},
   "outputs": [],
   "source": [
    "for key in dic.keys():\n",
    "    for name in dic[key].keys():\n",
    "        for cate in dic[key][name].keys():\n",
    "            if '方' in dic[key][name][cate]:\n",
    "                temp=dic[key][name][cate]['方']\n",
    "                for i in temp:\n",
    "                    for con in i:\n",
    "                        if '案' in con:\n",
    "                            i=[]"
   ]
  },
  {
   "cell_type": "code",
   "execution_count": 30,
   "metadata": {},
   "outputs": [],
   "source": [
    "for key in dic.keys():\n",
    "    for name in dic[key].keys():\n",
    "        for cate in dic[key][name].keys():\n",
    "            if '方' in dic[key][name][cate]:\n",
    "                temp=dic[key][name][cate]['方']\n",
    "                for i in temp:\n",
    "                    if ' 治' in i[0]:\n",
    "                        flag=0\n",
    "                        for j in range(0,len(i[0])):\n",
    "                            if i[0][j]=='。':\n",
    "                                flag=j\n",
    "                        i[0]=i[0][flag+1:]"
   ]
  },
  {
   "cell_type": "code",
   "execution_count": 34,
   "metadata": {},
   "outputs": [],
   "source": [
    "#爬取的数据存入json\n",
    "filename='不特殊5.4.json'\n",
    "with open(filename,'w',encoding='utf-8') as file_obj:\n",
    "    json.dump(dic,file_obj,ensure_ascii=False,indent = 4)"
   ]
  },
  {
   "cell_type": "code",
   "execution_count": null,
   "metadata": {},
   "outputs": [],
   "source": []
  },
  {
   "cell_type": "code",
   "execution_count": 35,
   "metadata": {},
   "outputs": [],
   "source": [
    "#读取json中爬取的数据\n",
    "with open('不特殊5.4.json',encoding=\"utf-8\") as file_obj:\n",
    "    dic=json.load(file_obj)"
   ]
  },
  {
   "cell_type": "code",
   "execution_count": 41,
   "metadata": {},
   "outputs": [],
   "source": [
    "for key in dic.keys():\n",
    "    for name in dic[key].keys():\n",
    "        for cate in dic[key][name].keys():\n",
    "            if '方' in dic[key][name][cate]:\n",
    "                temp=dic[key][name][cate]['方']\n",
    "                for i in temp:\n",
    "                    if ' 治' in i[1]:\n",
    "                        if i[1].count(' 治')==1:\n",
    "                            index=i[1].index(' 治')\n",
    "                            new=i[1][:index]\n",
    "                            flag=0\n",
    "                            for j in range(0,len(new)):\n",
    "                                if new[j]=='。':\n",
    "                                    flag=j\n",
    "                            i[0]=new[flag+1:]\n",
    "                            i[1]=i[1][index+1:]"
   ]
  },
  {
   "cell_type": "code",
   "execution_count": 46,
   "metadata": {},
   "outputs": [],
   "source": [
    "#爬取的数据存入json\n",
    "filename='不特殊5.4.json'\n",
    "with open(filename,'w',encoding='utf-8') as file_obj:\n",
    "    json.dump(dic,file_obj,ensure_ascii=False,indent = 4)"
   ]
  },
  {
   "cell_type": "code",
   "execution_count": 45,
   "metadata": {},
   "outputs": [
    {
     "name": "stdout",
     "output_type": "stream",
     "text": [
      "['人参饮子', '治寒壅痰嗽。紫菀汤 治痰嗽喘急。石夏丸 治痰嗽。', '半夏（一两泡） 滑石（一两火煨 去火毒） (br/)上生姜糊为丸。如梧桐子大。不拘多少。 白汤调']\n",
      " \n",
      "['胃风汤', '治风冷客入肠胃。泄下血。及肠胃湿毒下如豆汁。或下瘀血。枳壳散 治血痢不止。贯众散 治血痢不止。或如鸡鸭肝。或如小豆者。并能治之。', '贯众（二钱半） 黄连（半两）(br/)上件同炒令变色。地下出火毒。研为末。每服三钱。 米饮调下。空心服。']\n",
      " \n",
      "['滑石散', '治小便不利。赤涩疼痛。一名木通汤。蚕蜕散 治小便赤涩疼痛。一名蚕灰散。酸浆饮 治小便赤涩疼痛。一名酸浆酒。茅根饮子 治胞络中虚。小便如血色。', '茅根（一升） 茯苓（三两） 人参 干地黄（各二两）(br/)上切。以水五升。煮取一升 五合。 去滓']\n",
      " \n",
      "['地黄汤', '治妊娠堕胎后。血出不止。小腹满痛。葱豉汤 治堕胎后心痛。榆白皮煮散 治妊娠堕胎后。血出不止。', '榆白皮（刮净锉碎） 当归（切焙各半两）(br/)上 咀。每服三钱。以水一盏。入生姜三片。 同煎至七分去滓。空心服。']\n",
      " \n"
     ]
    }
   ],
   "source": [
    "for key in dic.keys():\n",
    "    for name in dic[key].keys():\n",
    "        for cate in dic[key][name].keys():\n",
    "            if '方' in dic[key][name][cate]:\n",
    "                temp=dic[key][name][cate]['方']\n",
    "                for i in temp:\n",
    "                    if ' 治' in i[1]:\n",
    "                        print(i)\n",
    "                        print(' ')"
   ]
  },
  {
   "cell_type": "code",
   "execution_count": 60,
   "metadata": {},
   "outputs": [],
   "source": [
    "#读取json中爬取的数据\n",
    "with open('不特殊5.4.json',encoding=\"utf-8\") as file_obj:\n",
    "    dic=json.load(file_obj)"
   ]
  },
  {
   "cell_type": "code",
   "execution_count": 65,
   "metadata": {},
   "outputs": [
    {
     "name": "stdout",
     "output_type": "stream",
     "text": [
      "['加减青蒿丸', '治男子女人。一切劳疾骨蒸风气。此药有七名。', '又方', '一名杏仁丸。', '治瘦。', '又方 二名木香丸。', '能治尸注鬼气。九种心痛。三种虫咬心痛。三名犀角丸。治时行热疾瘟疫。', '又方 四名龙脑丸。', '治小儿无辜痞痢。', '又方 五名万病丸。', '治一切虚伤。', '又方 六名丹砂丸。', '治毒邪 癖气等。', '又方', '七名青蒿丸。', '治男子女人一切劳气。若常带行山林旷野。坑阱冢墓前后。鬼神不敢近。若被毒蛇恶物所', '青蒿心（三枚细切） 童子小便（三大斗） 生地黄（三挺竹刀切捣） 东引桃枝（半 握细捣碎 一二两） 甘草（四两炙） 以上五味。', '用新瓮子一口。以小便浸七日。和小便并前件药煮 三 五百沸。漉出药。晒干捣罗为末。然后将小便清入釜中。以桑柴火炼之。以篦搅勿住手。三 斗小便炼至三升。用不津器盛。将和后药。', '杏仁 桃仁（并去双仁及皮尖炒令黄） 桔梗 葳蕤 枳壳（麸炒去瓤） 大黄（焙） 升麻 苍术（炒一方用白术） 白茯苓（去黑皮） 地骨皮 甘草（炙） 天灵盖（酥炙一两无虎 骨代） 贝母（去心） 芜荑（炒） 当归（切焙） 黄耆 （锉） 桂（去粗皮） 橘皮（去白焙） 浓朴（去粗皮姜汁炙） 防风（去瓤） 槟榔（不得近铁器） 吴茱萸（汤浸炒） 丹砂（别研） 麝香（别研各一两） 木香（二两半） 犀角屑（一两半） 羚羊角屑（二两一分）', '上为细末。用前小 便煎和匀。入臼捣五百下。如末粘。可入炼蜜和丸。如梧桐子大。每食后温水下三十丸。疾重。日 再服。通三焦安五脏。四时常服。永无虚劳之疾。时行瘴疟。常不能害。上气咳嗽。无问涕 唾并干嗽。嗽后有血。此名肺热。热毒壅转。成鼻塞声破。胸中结痛。若不速除。当成肺痿 劳瘦。服此药五两。其病乃平。手足热如火。口生疮舌烂。夜梦不祥。口中 齿。牙痛咽痹。 服五 上瘰癧当法不治。根本必攻五脏。状如藤萝绕木。荣枯。不相舍。令颈项破损。必死。 服此八两当效。若患时气头痛欲死。身热大小便秘涩。复不识人。不下食。新汲水下五十丸。 即瘥丈夫妇人曾服热药过度。近虽药尽。气力犹有。往往发来冲人头面。致眼痛昏热。心胃 燥烦。口臭生疮。温水下二丸。不过一二两。婴孩无辜病。与大人劳病。同为在胎中伤精血。致令唇口焦干。或泻或利。腹中渐结。眼中生膜。服之可愈。若孩子渐不。准大人例服之。女人月经不均。或前或后。多少不定。青色杂。或凝或散。渐成劳瘦。服一二两。当愈。', '春加 龙胆 龙骨 柴胡（去苗） 黄连（去须略炒各一分） 夏加 知母 石菖蒲 麦门冬（去心） 白茯苓（去黑皮各一两） 秋加 诃黎勒皮 秦艽 旋复花（各一两）']\n",
      "['加减青蒿丸', '治男子女人。一切劳疾骨蒸风气。此药有七名。', '又方 一名杏仁丸。', '治瘦。', '又方', '二名木香丸。', '能治尸注鬼气。九种心痛。三种虫咬心痛。三名犀角丸。治时行热疾瘟疫。', '又方 四名龙脑丸。', '治小儿无辜痞痢。', '又方 五名万病丸。', '治一切虚伤。', '又方 六名丹砂丸。', '治毒邪 癖气等。', '又方', '七名青蒿丸。', '治男子女人一切劳气。若常带行山林旷野。坑阱冢墓前后。鬼神不敢近。若被毒蛇恶物所', '青蒿心（三枚细切） 童子小便（三大斗） 生地黄（三挺竹刀切捣） 东引桃枝（半 握细捣碎 一二两） 甘草（四两炙） 以上五味。', '用新瓮子一口。以小便浸七日。和小便并前件药煮 三 五百沸。漉出药。晒干捣罗为末。然后将小便清入釜中。以桑柴火炼之。以篦搅勿住手。三 斗小便炼至三升。用不津器盛。将和后药。', '杏仁 桃仁（并去双仁及皮尖炒令黄） 桔梗 葳蕤 枳壳（麸炒去瓤） 大黄（焙） 升麻 苍术（炒一方用白术） 白茯苓（去黑皮） 地骨皮 甘草（炙） 天灵盖（酥炙一两无虎 骨代） 贝母（去心） 芜荑（炒） 当归（切焙） 黄耆 （锉） 桂（去粗皮） 橘皮（去白焙） 浓朴（去粗皮姜汁炙） 防风（去瓤） 槟榔（不得近铁器） 吴茱萸（汤浸炒） 丹砂（别研） 麝香（别研各一两） 木香（二两半） 犀角屑（一两半） 羚羊角屑（二两一分）', '上为细末。用前小 便煎和匀。入臼捣五百下。如末粘。可入炼蜜和丸。如梧桐子大。每食后温水下三十丸。疾重。日 再服。通三焦安五脏。四时常服。永无虚劳之疾。时行瘴疟。常不能害。上气咳嗽。无问涕 唾并干嗽。嗽后有血。此名肺热。热毒壅转。成鼻塞声破。胸中结痛。若不速除。当成肺痿 劳瘦。服此药五两。其病乃平。手足热如火。口生疮舌烂。夜梦不祥。口中 齿。牙痛咽痹。 服五 上瘰癧当法不治。根本必攻五脏。状如藤萝绕木。荣枯。不相舍。令颈项破损。必死。 服此八两当效。若患时气头痛欲死。身热大小便秘涩。复不识人。不下食。新汲水下五十丸。 即瘥丈夫妇人曾服热药过度。近虽药尽。气力犹有。往往发来冲人头面。致眼痛昏热。心胃 燥烦。口臭生疮。温水下二丸。不过一二两。婴孩无辜病。与大人劳病。同为在胎中伤精血。致令唇口焦干。或泻或利。腹中渐结。眼中生膜。服之可愈。若孩子渐不。准大人例服之。女人月经不均。或前或后。多少不定。青色杂。或凝或散。渐成劳瘦。服一二两。当愈。', '春加 龙胆 龙骨 柴胡（去苗） 黄连（去须略炒各一分） 夏加 知母 石菖蒲 麦门冬（去心） 白茯苓（去黑皮各一两） 秋加 诃黎勒皮 秦艽 旋复花（各一两）']\n",
      "['加减青蒿丸', '治男子女人。一切劳疾骨蒸风气。此药有七名。', '又方 一名杏仁丸。', '治瘦。', '又方 二名木香丸。', '能治尸注鬼气。九种心痛。三种虫咬心痛。三名犀角丸。治时行热疾瘟疫。', '又方', '四名龙脑丸。', '治小儿无辜痞痢。', '又方 五名万病丸。', '治一切虚伤。', '又方 六名丹砂丸。', '治毒邪 癖气等。', '又方', '七名青蒿丸。', '治男子女人一切劳气。若常带行山林旷野。坑阱冢墓前后。鬼神不敢近。若被毒蛇恶物所', '青蒿心（三枚细切） 童子小便（三大斗） 生地黄（三挺竹刀切捣） 东引桃枝（半 握细捣碎 一二两） 甘草（四两炙） 以上五味。', '用新瓮子一口。以小便浸七日。和小便并前件药煮 三 五百沸。漉出药。晒干捣罗为末。然后将小便清入釜中。以桑柴火炼之。以篦搅勿住手。三 斗小便炼至三升。用不津器盛。将和后药。', '杏仁 桃仁（并去双仁及皮尖炒令黄） 桔梗 葳蕤 枳壳（麸炒去瓤） 大黄（焙） 升麻 苍术（炒一方用白术） 白茯苓（去黑皮） 地骨皮 甘草（炙） 天灵盖（酥炙一两无虎 骨代） 贝母（去心） 芜荑（炒） 当归（切焙） 黄耆 （锉） 桂（去粗皮） 橘皮（去白焙） 浓朴（去粗皮姜汁炙） 防风（去瓤） 槟榔（不得近铁器） 吴茱萸（汤浸炒） 丹砂（别研） 麝香（别研各一两） 木香（二两半） 犀角屑（一两半） 羚羊角屑（二两一分）', '上为细末。用前小 便煎和匀。入臼捣五百下。如末粘。可入炼蜜和丸。如梧桐子大。每食后温水下三十丸。疾重。日 再服。通三焦安五脏。四时常服。永无虚劳之疾。时行瘴疟。常不能害。上气咳嗽。无问涕 唾并干嗽。嗽后有血。此名肺热。热毒壅转。成鼻塞声破。胸中结痛。若不速除。当成肺痿 劳瘦。服此药五两。其病乃平。手足热如火。口生疮舌烂。夜梦不祥。口中 齿。牙痛咽痹。 服五 上瘰癧当法不治。根本必攻五脏。状如藤萝绕木。荣枯。不相舍。令颈项破损。必死。 服此八两当效。若患时气头痛欲死。身热大小便秘涩。复不识人。不下食。新汲水下五十丸。 即瘥丈夫妇人曾服热药过度。近虽药尽。气力犹有。往往发来冲人头面。致眼痛昏热。心胃 燥烦。口臭生疮。温水下二丸。不过一二两。婴孩无辜病。与大人劳病。同为在胎中伤精血。致令唇口焦干。或泻或利。腹中渐结。眼中生膜。服之可愈。若孩子渐不。准大人例服之。女人月经不均。或前或后。多少不定。青色杂。或凝或散。渐成劳瘦。服一二两。当愈。', '春加 龙胆 龙骨 柴胡（去苗） 黄连（去须略炒各一分） 夏加 知母 石菖蒲 麦门冬（去心） 白茯苓（去黑皮各一两） 秋加 诃黎勒皮 秦艽 旋复花（各一两）']\n",
      "['加减青蒿丸', '治男子女人。一切劳疾骨蒸风气。此药有七名。', '又方 一名杏仁丸。', '治瘦。', '又方 二名木香丸。', '能治尸注鬼气。九种心痛。三种虫咬心痛。三名犀角丸。治时行热疾瘟疫。', '又方 四名龙脑丸。', '治小儿无辜痞痢。', '又方', '五名万病丸。', '治一切虚伤。', '又方 六名丹砂丸。', '治毒邪 癖气等。', '又方', '七名青蒿丸。', '治男子女人一切劳气。若常带行山林旷野。坑阱冢墓前后。鬼神不敢近。若被毒蛇恶物所', '青蒿心（三枚细切） 童子小便（三大斗） 生地黄（三挺竹刀切捣） 东引桃枝（半 握细捣碎 一二两） 甘草（四两炙） 以上五味。', '用新瓮子一口。以小便浸七日。和小便并前件药煮 三 五百沸。漉出药。晒干捣罗为末。然后将小便清入釜中。以桑柴火炼之。以篦搅勿住手。三 斗小便炼至三升。用不津器盛。将和后药。', '杏仁 桃仁（并去双仁及皮尖炒令黄） 桔梗 葳蕤 枳壳（麸炒去瓤） 大黄（焙） 升麻 苍术（炒一方用白术） 白茯苓（去黑皮） 地骨皮 甘草（炙） 天灵盖（酥炙一两无虎 骨代） 贝母（去心） 芜荑（炒） 当归（切焙） 黄耆 （锉） 桂（去粗皮） 橘皮（去白焙） 浓朴（去粗皮姜汁炙） 防风（去瓤） 槟榔（不得近铁器） 吴茱萸（汤浸炒） 丹砂（别研） 麝香（别研各一两） 木香（二两半） 犀角屑（一两半） 羚羊角屑（二两一分）', '上为细末。用前小 便煎和匀。入臼捣五百下。如末粘。可入炼蜜和丸。如梧桐子大。每食后温水下三十丸。疾重。日 再服。通三焦安五脏。四时常服。永无虚劳之疾。时行瘴疟。常不能害。上气咳嗽。无问涕 唾并干嗽。嗽后有血。此名肺热。热毒壅转。成鼻塞声破。胸中结痛。若不速除。当成肺痿 劳瘦。服此药五两。其病乃平。手足热如火。口生疮舌烂。夜梦不祥。口中 齿。牙痛咽痹。 服五 上瘰癧当法不治。根本必攻五脏。状如藤萝绕木。荣枯。不相舍。令颈项破损。必死。 服此八两当效。若患时气头痛欲死。身热大小便秘涩。复不识人。不下食。新汲水下五十丸。 即瘥丈夫妇人曾服热药过度。近虽药尽。气力犹有。往往发来冲人头面。致眼痛昏热。心胃 燥烦。口臭生疮。温水下二丸。不过一二两。婴孩无辜病。与大人劳病。同为在胎中伤精血。致令唇口焦干。或泻或利。腹中渐结。眼中生膜。服之可愈。若孩子渐不。准大人例服之。女人月经不均。或前或后。多少不定。青色杂。或凝或散。渐成劳瘦。服一二两。当愈。', '春加 龙胆 龙骨 柴胡（去苗） 黄连（去须略炒各一分） 夏加 知母 石菖蒲 麦门冬（去心） 白茯苓（去黑皮各一两） 秋加 诃黎勒皮 秦艽 旋复花（各一两）']\n",
      "['加减青蒿丸', '治男子女人。一切劳疾骨蒸风气。此药有七名。', '又方 一名杏仁丸。', '治瘦。', '又方 二名木香丸。', '能治尸注鬼气。九种心痛。三种虫咬心痛。三名犀角丸。治时行热疾瘟疫。', '又方 四名龙脑丸。', '治小儿无辜痞痢。', '又方 五名万病丸。', '治一切虚伤。', '又方', '六名丹砂丸。', '治毒邪 癖气等。', '又方', '七名青蒿丸。', '治男子女人一切劳气。若常带行山林旷野。坑阱冢墓前后。鬼神不敢近。若被毒蛇恶物所', '青蒿心（三枚细切） 童子小便（三大斗） 生地黄（三挺竹刀切捣） 东引桃枝（半 握细捣碎 一二两） 甘草（四两炙） 以上五味。', '用新瓮子一口。以小便浸七日。和小便并前件药煮 三 五百沸。漉出药。晒干捣罗为末。然后将小便清入釜中。以桑柴火炼之。以篦搅勿住手。三 斗小便炼至三升。用不津器盛。将和后药。', '杏仁 桃仁（并去双仁及皮尖炒令黄） 桔梗 葳蕤 枳壳（麸炒去瓤） 大黄（焙） 升麻 苍术（炒一方用白术） 白茯苓（去黑皮） 地骨皮 甘草（炙） 天灵盖（酥炙一两无虎 骨代） 贝母（去心） 芜荑（炒） 当归（切焙） 黄耆 （锉） 桂（去粗皮） 橘皮（去白焙） 浓朴（去粗皮姜汁炙） 防风（去瓤） 槟榔（不得近铁器） 吴茱萸（汤浸炒） 丹砂（别研） 麝香（别研各一两） 木香（二两半） 犀角屑（一两半） 羚羊角屑（二两一分）', '上为细末。用前小 便煎和匀。入臼捣五百下。如末粘。可入炼蜜和丸。如梧桐子大。每食后温水下三十丸。疾重。日 再服。通三焦安五脏。四时常服。永无虚劳之疾。时行瘴疟。常不能害。上气咳嗽。无问涕 唾并干嗽。嗽后有血。此名肺热。热毒壅转。成鼻塞声破。胸中结痛。若不速除。当成肺痿 劳瘦。服此药五两。其病乃平。手足热如火。口生疮舌烂。夜梦不祥。口中 齿。牙痛咽痹。 服五 上瘰癧当法不治。根本必攻五脏。状如藤萝绕木。荣枯。不相舍。令颈项破损。必死。 服此八两当效。若患时气头痛欲死。身热大小便秘涩。复不识人。不下食。新汲水下五十丸。 即瘥丈夫妇人曾服热药过度。近虽药尽。气力犹有。往往发来冲人头面。致眼痛昏热。心胃 燥烦。口臭生疮。温水下二丸。不过一二两。婴孩无辜病。与大人劳病。同为在胎中伤精血。致令唇口焦干。或泻或利。腹中渐结。眼中生膜。服之可愈。若孩子渐不。准大人例服之。女人月经不均。或前或后。多少不定。青色杂。或凝或散。渐成劳瘦。服一二两。当愈。', '春加 龙胆 龙骨 柴胡（去苗） 黄连（去须略炒各一分） 夏加 知母 石菖蒲 麦门冬（去心） 白茯苓（去黑皮各一两） 秋加 诃黎勒皮 秦艽 旋复花（各一两）']\n",
      "['解诸药及诸草毒方', '以黄土地上。挖一坑。以水搅浊。饮一二碗。即愈。', '又方', '治回回麻药。服多而昏晕者。以好醋解之。', '又方', '治草乌麻、吐。', '好醋解。生姜甘草皆解。一方煎甘草生姜自然汁。顿服。']\n",
      "['胜金散', '槐花 染坯(br/)上等分生为细末。每服一钱。汲井水调下。常熟一家。专货此药。每服百 钱。', '又方', '解鳗毒。', '榉树皮、或栊木子。或 菜、或冬青叶。皆酒浸服。', '又方 解 毒。', '灰汁洗铁浆菜等。皆可服。', '又方 解龟毒。', '以麻油炒砂焦热。帛裹缚熨之。', '又方', '解蟹毒。', '未破者、醋炒锻石缚敷。已破水调。酒糟皆效。']\n",
      "['胜金散', '槐花 染坯(br/)上等分生为细末。每服一钱。汲井水调下。常熟一家。专货此药。每服百 钱。', '又方 解鳗毒。', '榉树皮、或栊木子。或 菜、或冬青叶。皆酒浸服。', '又方', '解 毒。', '灰汁洗铁浆菜等。皆可服。', '又方 解龟毒。', '以麻油炒砂焦热。帛裹缚熨之。', '又方', '解蟹毒。', '未破者、醋炒锻石缚敷。已破水调。酒糟皆效。']\n",
      "['胜金散', '槐花 染坯(br/)上等分生为细末。每服一钱。汲井水调下。常熟一家。专货此药。每服百 钱。', '又方 解鳗毒。', '榉树皮、或栊木子。或 菜、或冬青叶。皆酒浸服。', '又方 解 毒。', '灰汁洗铁浆菜等。皆可服。', '又方', '解龟毒。', '以麻油炒砂焦热。帛裹缚熨之。', '又方', '解蟹毒。', '未破者、醋炒锻石缚敷。已破水调。酒糟皆效。']\n",
      "['驱蚊药方', '每用木屑一斗。入天仙藤四两。裁断锉碎。同研为末。如印香燃之。蚊蚋悉去。', '又方', '辟蚊子及诸虫', '以苦楝子、柏子、菖蒲为末。慢火烧之。闻者即去。', '又方', '五月采浮萍阴干。加白胶香、苍术等分烧熏。水闭日。更但女星日。造帐子。虽蚊多之 地。', '又方', '治蚊虫', '浮萍 浓朴 羌活 芎（各等分）(br/)上为末。作香篆烧。其蚊远去。']\n",
      "['神效方', '千金草（四两） 明矾（五钱） 乳香（一两）(br/)上为末。酒调下一钱。出汗为度。', '又方', '治缓疔。', '两尖（一两系两头尖） 巴豆（四个）(br/)上为细末。贴疮上。纸封。', '又方', '治冷疔疮。', '青靛（一两） 明矾（七钱）(br/)上为末。井花水调服五钱。仍饮热葱汤一盏。被盖汗出 即愈。']\n",
      "['通关散', '初觉疮发时。先服通关散。', '治发背内溃。及诸恶毒冲心呕逆。', '以绿豆不拘多少为末。每服二钱。入乳香一钱。井花水调下。以利为度。未利更入乳香 再服。', '次用药试发疮可治不可治。', '白矾（一两） 天南星（一个）(br/)上为末。以冷水和匀。敷肿处。留出疮口。仍以笔画 泥疮晕。', '又方', '赤小豆', '次服赤小豆', '用赤小豆半斤。不去皮。生为末。每用一两匙以冷水调下。连并服尽。如未退再服半升。 取', '又方 四味散', '次服四味散', '石上薜荔（二两） 地榆（一两） 甘草节（一两） 当归（一两）(br/)上为末。温酒调下三钱。次服膨 叶（一斤） 冈谷刺叶（一斤）(br/)上旋采勿令妇人鸡犬见。碓臼内舂烂。 每用一碗许。以', '又方', '次用敛疮口生肌散', '（一名木香散） 木香 槟榔 黄连（洗去须）(br/)上等分。净器碾为末。时以敷疮。若疮溃烂敷了。更以 常用膏 敷。即']\n",
      "['通关散', '初觉疮发时。先服通关散。', '治发背内溃。及诸恶毒冲心呕逆。', '以绿豆不拘多少为末。每服二钱。入乳香一钱。井花水调下。以利为度。未利更入乳香 再服。', '次用药试发疮可治不可治。', '白矾（一两） 天南星（一个）(br/)上为末。以冷水和匀。敷肿处。留出疮口。仍以笔画 泥疮晕。', '又方 赤小豆', '次服赤小豆', '用赤小豆半斤。不去皮。生为末。每用一两匙以冷水调下。连并服尽。如未退再服半升。 取', '又方', '四味散', '次服四味散', '石上薜荔（二两） 地榆（一两） 甘草节（一两） 当归（一两）(br/)上为末。温酒调下三钱。次服膨 叶（一斤） 冈谷刺叶（一斤）(br/)上旋采勿令妇人鸡犬见。碓臼内舂烂。 每用一碗许。以', '又方', '次用敛疮口生肌散', '（一名木香散） 木香 槟榔 黄连（洗去须）(br/)上等分。净器碾为末。时以敷疮。若疮溃烂敷了。更以 常用膏 敷。即']\n",
      "['芸苔子散', '治产后血气冲心痛。', '芸苔（微炒） 当归（锉微炒各一两）(br/)上捣细罗为散。不计时候。以热酒调下一钱。', '治产后心疼。', '又方', '烧称锤投酒中服之佳。', '又方', '烧大豆投酒中服佳。']\n"
     ]
    }
   ],
   "source": [
    "for key in dic.keys():\n",
    "    for name in dic[key].keys():\n",
    "        for cate in dic[key][name].keys():\n",
    "            if '方' in dic[key][name][cate]:\n",
    "                temp=dic[key][name][cate]['方']\n",
    "                for a in range(0,len(temp)):\n",
    "                    i=temp[a]\n",
    "                    for j in range(0,len(i)):\n",
    "                        if '又方 'in i[j]:\n",
    "                            index=i[j].index(' ')\n",
    "                            new=i[j][index+1:]\n",
    "                            lst=[]\n",
    "                            lst.extend(i[:j])\n",
    "                            lst.append('又方')\n",
    "                            lst.append(new)\n",
    "                            lst.extend(i[j+1:])\n",
    "                            print(lst)\n",
    "                            temp[a]=lst"
   ]
  },
  {
   "cell_type": "code",
   "execution_count": 66,
   "metadata": {},
   "outputs": [],
   "source": [
    "#爬取的数据存入json\n",
    "filename='不特殊5.4.json'\n",
    "with open(filename,'w',encoding='utf-8') as file_obj:\n",
    "    json.dump(dic,file_obj,ensure_ascii=False,indent = 4)"
   ]
  },
  {
   "cell_type": "code",
   "execution_count": null,
   "metadata": {},
   "outputs": [],
   "source": []
  },
  {
   "cell_type": "code",
   "execution_count": null,
   "metadata": {},
   "outputs": [],
   "source": []
  },
  {
   "cell_type": "code",
   "execution_count": 11,
   "metadata": {},
   "outputs": [],
   "source": [
    "#读取json中爬取的数据\n",
    "with open('不特殊5.4.json',encoding=\"utf-8\") as file_obj:\n",
    "    dic=json.load(file_obj)"
   ]
  },
  {
   "cell_type": "code",
   "execution_count": 12,
   "metadata": {},
   "outputs": [],
   "source": [
    "strc={}"
   ]
  },
  {
   "cell_type": "code",
   "execution_count": 13,
   "metadata": {},
   "outputs": [],
   "source": [
    "for key in dic.keys():\n",
    "    strc[key]={}\n",
    "    for name in dic[key].keys():\n",
    "        strc[key][name]={}\n",
    "        for cate in dic[key][name].keys():\n",
    "            if '方' in dic[key][name][cate]:\n",
    "                temp=dic[key][name][cate]['方']\n",
    "                if len(temp)!=0:\n",
    "                    strc[key][name][cate]={}\n",
    "                    strc[key][name][cate]['内容']=[]\n",
    "                for a in range(0,len(temp)):\n",
    "                    i=temp[a]\n",
    "                    if len(i)==3 and '治'==i[1][0]:\n",
    "                        new={}\n",
    "                        new['方名']=i[0]\n",
    "                        new['主治']=i[1]\n",
    "                        new['中药剂量及用法']=i[2]\n",
    "                        strc[key][name][cate]['内容'].append(new)\n",
    "                        \n",
    "                        dic[key][name][cate]['方'][a]=[]"
   ]
  },
  {
   "cell_type": "code",
   "execution_count": null,
   "metadata": {},
   "outputs": [],
   "source": []
  },
  {
   "cell_type": "code",
   "execution_count": 14,
   "metadata": {},
   "outputs": [],
   "source": [
    "#爬取的数据存入json\n",
    "filename='提取结构化.json'\n",
    "with open(filename,'w',encoding='utf-8') as file_obj:\n",
    "    json.dump(strc,file_obj,ensure_ascii=False,indent = 4)\n",
    "    \n",
    "\n",
    "filename='临时5.5.json'\n",
    "with open(filename,'w',encoding='utf-8') as file_obj:\n",
    "    json.dump(dic,file_obj,ensure_ascii=False,indent = 4)"
   ]
  },
  {
   "cell_type": "code",
   "execution_count": null,
   "metadata": {},
   "outputs": [],
   "source": []
  },
  {
   "cell_type": "code",
   "execution_count": 15,
   "metadata": {},
   "outputs": [],
   "source": [
    "for key in dic.keys():\n",
    "    for name in dic[key].keys():\n",
    "        for cate in dic[key][name].keys():\n",
    "            if '方' in dic[key][name][cate]:\n",
    "                temp=dic[key][name][cate]['方']\n",
    "                for a in range(0,len(temp)):\n",
    "                    i=temp[a]\n",
    "                    if len(i)==3 and '疗'==i[1][0]:\n",
    "                        new={}\n",
    "                        new['方名']=i[0]\n",
    "                        new['主治']=i[1]\n",
    "                        new['中药剂量及用法']=i[2]\n",
    "                        strc[key][name][cate]['内容'].append(new)\n",
    "                        \n",
    "                        dic[key][name][cate]['方'][a]=[]"
   ]
  },
  {
   "cell_type": "code",
   "execution_count": 16,
   "metadata": {},
   "outputs": [],
   "source": [
    "#爬取的数据存入json\n",
    "filename='提取结构化.json'\n",
    "with open(filename,'w',encoding='utf-8') as file_obj:\n",
    "    json.dump(strc,file_obj,ensure_ascii=False,indent = 4)\n",
    "    \n",
    "\n",
    "filename='临时5.5.json'\n",
    "with open(filename,'w',encoding='utf-8') as file_obj:\n",
    "    json.dump(dic,file_obj,ensure_ascii=False,indent = 4)"
   ]
  },
  {
   "cell_type": "code",
   "execution_count": null,
   "metadata": {},
   "outputs": [],
   "source": []
  },
  {
   "cell_type": "code",
   "execution_count": 17,
   "metadata": {},
   "outputs": [],
   "source": [
    "for key in dic.keys():\n",
    "    for name in dic[key].keys():\n",
    "        for cate in dic[key][name].keys():\n",
    "            if '方' in dic[key][name][cate]:\n",
    "                temp=dic[key][name][cate]['方']\n",
    "                for a in range(0,len(temp)):\n",
    "                    i=temp[a]\n",
    "                    if len(i)==3 and ('）治' in i[1] or '）疗' in i[1]):\n",
    "                        new={}\n",
    "                        new['方名']=i[0]\n",
    "                        new['主治']=i[1]\n",
    "                        new['中药剂量及用法']=i[2]\n",
    "                        strc[key][name][cate]['内容'].append(new)\n",
    "                        \n",
    "                        dic[key][name][cate]['方'][a]=[]"
   ]
  },
  {
   "cell_type": "code",
   "execution_count": 18,
   "metadata": {},
   "outputs": [],
   "source": [
    "#爬取的数据存入json\n",
    "filename='提取结构化.json'\n",
    "with open(filename,'w',encoding='utf-8') as file_obj:\n",
    "    json.dump(strc,file_obj,ensure_ascii=False,indent = 4)\n",
    "    \n",
    "\n",
    "filename='临时5.5.json'\n",
    "with open(filename,'w',encoding='utf-8') as file_obj:\n",
    "    json.dump(dic,file_obj,ensure_ascii=False,indent = 4)"
   ]
  },
  {
   "cell_type": "code",
   "execution_count": null,
   "metadata": {},
   "outputs": [],
   "source": []
  },
  {
   "cell_type": "code",
   "execution_count": null,
   "metadata": {},
   "outputs": [],
   "source": []
  },
  {
   "cell_type": "code",
   "execution_count": null,
   "metadata": {},
   "outputs": [],
   "source": []
  },
  {
   "cell_type": "code",
   "execution_count": null,
   "metadata": {},
   "outputs": [],
   "source": []
  },
  {
   "cell_type": "code",
   "execution_count": null,
   "metadata": {},
   "outputs": [],
   "source": []
  },
  {
   "cell_type": "code",
   "execution_count": null,
   "metadata": {},
   "outputs": [],
   "source": []
  },
  {
   "cell_type": "code",
   "execution_count": null,
   "metadata": {},
   "outputs": [],
   "source": []
  },
  {
   "cell_type": "code",
   "execution_count": null,
   "metadata": {},
   "outputs": [],
   "source": []
  },
  {
   "cell_type": "markdown",
   "metadata": {},
   "source": [
    "# 切分"
   ]
  },
  {
   "cell_type": "code",
   "execution_count": 19,
   "metadata": {},
   "outputs": [],
   "source": [
    "#读取json中爬取的数据\n",
    "with open('提取结构化.json',encoding=\"utf-8\") as file_obj:\n",
    "    strc=json.load(file_obj)"
   ]
  },
  {
   "cell_type": "code",
   "execution_count": 20,
   "metadata": {},
   "outputs": [],
   "source": [
    "for key in strc.keys():\n",
    "    for name in strc[key].keys():\n",
    "        for cate in strc[key][name].keys():\n",
    "            if '内容' in strc[key][name][cate]:\n",
    "                temp=strc[key][name][cate]['内容']\n",
    "                for i in range(0,len(temp)):\n",
    "                    dic=temp[i]\n",
    "                    com=dic['中药剂量及用法']\n",
    "                    if '(br/)' in com:\n",
    "                        index=com.index('(br/)')\n",
    "                        new1=com[:index]\n",
    "                        new2=com[index+5:]\n",
    "                        strc[key][name][cate]['内容'][i]['中药剂量']=new1\n",
    "                        strc[key][name][cate]['内容'][i]['用法']=new2\n",
    "                        del strc[key][name][cate]['内容'][i]['中药剂量及用法']"
   ]
  },
  {
   "cell_type": "code",
   "execution_count": 21,
   "metadata": {},
   "outputs": [],
   "source": [
    "#爬取的数据存入json\n",
    "filename='提取结构化5.5.json'\n",
    "with open(filename,'w',encoding='utf-8') as file_obj:\n",
    "    json.dump(strc,file_obj,ensure_ascii=False,indent = 4)"
   ]
  },
  {
   "cell_type": "code",
   "execution_count": 25,
   "metadata": {},
   "outputs": [],
   "source": [
    "for key in strc.keys():\n",
    "    for name in strc[key].keys():\n",
    "        for cate in strc[key][name].keys():\n",
    "            if '内容' in strc[key][name][cate]:\n",
    "                temp=strc[key][name][cate]['内容']\n",
    "                for i in range(0,len(temp)):\n",
    "                    dic=temp[i]\n",
    "                    if '用法' not in dic:\n",
    "                        con=temp[i]['中药剂量及用法']\n",
    "                        if '上为' in con:\n",
    "                            index=con.index('上为')\n",
    "                            new1=con[:index]\n",
    "                            new2=con[index:]\n",
    "                            strc[key][name][cate]['内容'][i]['中药剂量']=new1\n",
    "                            strc[key][name][cate]['内容'][i]['用法']=new2\n",
    "                            del strc[key][name][cate]['内容'][i]['中药剂量及用法']"
   ]
  },
  {
   "cell_type": "code",
   "execution_count": 26,
   "metadata": {},
   "outputs": [],
   "source": [
    "#爬取的数据存入json\n",
    "filename='提取结构化5.5.json'\n",
    "with open(filename,'w',encoding='utf-8') as file_obj:\n",
    "    json.dump(strc,file_obj,ensure_ascii=False,indent = 4)"
   ]
  },
  {
   "cell_type": "code",
   "execution_count": null,
   "metadata": {},
   "outputs": [],
   "source": []
  },
  {
   "cell_type": "code",
   "execution_count": 37,
   "metadata": {},
   "outputs": [],
   "source": [
    "#读取json中爬取的数据\n",
    "with open('提取结构化5.5.json',encoding=\"utf-8\") as file_obj:\n",
    "    strc=json.load(file_obj)"
   ]
  },
  {
   "cell_type": "code",
   "execution_count": 38,
   "metadata": {},
   "outputs": [],
   "source": [
    "for key in strc.keys():\n",
    "    for name in strc[key].keys():\n",
    "        for cate in strc[key][name].keys():\n",
    "            if '内容' in strc[key][name][cate]:\n",
    "                temp=strc[key][name][cate]['内容']\n",
    "                for i in range(0,len(temp)):\n",
    "                    dic=temp[i]\n",
    "                    if '用法' not in dic:\n",
    "                        con=temp[i]['中药剂量及用法']\n",
    "                        if ' 上' in con and '以上' not in con:\n",
    "                            index=con.index(' 上')\n",
    "                            new1=con[:index]\n",
    "                            new2=con[index+1:]\n",
    "                            strc[key][name][cate]['内容'][i]['中药剂量']=new1\n",
    "                            strc[key][name][cate]['内容'][i]['用法']=new2\n",
    "                            del strc[key][name][cate]['内容'][i]['中药剂量及用法']"
   ]
  },
  {
   "cell_type": "code",
   "execution_count": 39,
   "metadata": {},
   "outputs": [],
   "source": [
    "#爬取的数据存入json\n",
    "filename='提取结构化5.5_2.json'\n",
    "with open(filename,'w',encoding='utf-8') as file_obj:\n",
    "    json.dump(strc,file_obj,ensure_ascii=False,indent = 4)"
   ]
  },
  {
   "cell_type": "code",
   "execution_count": 43,
   "metadata": {},
   "outputs": [],
   "source": [
    "for key in strc.keys():\n",
    "    for name in strc[key].keys():\n",
    "        for cate in strc[key][name].keys():\n",
    "            if '内容' in strc[key][name][cate]:\n",
    "                temp=strc[key][name][cate]['内容']\n",
    "                for i in range(0,len(temp)):\n",
    "                    dic=temp[i]\n",
    "                    if '用法' not in dic:\n",
    "                        con=temp[i]['中药剂量及用法']\n",
    "                        if '上' ==con[0]:\n",
    "                            new=con[:]\n",
    "                            strc[key][name][cate]['内容'][i]['用法']=new\n",
    "                            del strc[key][name][cate]['内容'][i]['中药剂量及用法']"
   ]
  },
  {
   "cell_type": "code",
   "execution_count": 44,
   "metadata": {},
   "outputs": [],
   "source": [
    "#爬取的数据存入json\n",
    "filename='提取结构化5.5_2.json'\n",
    "with open(filename,'w',encoding='utf-8') as file_obj:\n",
    "    json.dump(strc,file_obj,ensure_ascii=False,indent = 4)"
   ]
  },
  {
   "cell_type": "code",
   "execution_count": 52,
   "metadata": {},
   "outputs": [],
   "source": [
    "for key in strc.keys():\n",
    "    for name in strc[key].keys():\n",
    "        for cate in strc[key][name].keys():\n",
    "            if '内容' in strc[key][name][cate]:\n",
    "                temp=strc[key][name][cate]['内容']\n",
    "                for i in range(0,len(temp)):\n",
    "                    dic=temp[i]\n",
    "                    if '用法' not in dic:\n",
    "                        con=temp[i]['中药剂量及用法']\n",
    "                        if ' 每服' in con:\n",
    "                            index=con.index(' 每服')\n",
    "                            new1=con[:index]\n",
    "                            new2=con[index+1:]\n",
    "                            strc[key][name][cate]['内容'][i]['中药剂量']=new1\n",
    "                            strc[key][name][cate]['内容'][i]['用法']=new2\n",
    "                            del strc[key][name][cate]['内容'][i]['中药剂量及用法']"
   ]
  },
  {
   "cell_type": "code",
   "execution_count": 61,
   "metadata": {},
   "outputs": [],
   "source": [
    "for key in strc.keys():\n",
    "    for name in strc[key].keys():\n",
    "        for cate in strc[key][name].keys():\n",
    "            if '内容' in strc[key][name][cate]:\n",
    "                temp=strc[key][name][cate]['内容']\n",
    "                for i in range(0,len(temp)):\n",
    "                    dic=temp[i]\n",
    "                    if '用法' not in dic:\n",
    "                        con=temp[i]['中药剂量及用法']\n",
    "                        if ' 每 服' in con:\n",
    "                            index=con.index(' 每 服')\n",
    "                            new1=con[:index]\n",
    "                            new2=con[index+1:]\n",
    "                            strc[key][name][cate]['内容'][i]['中药剂量']=new1\n",
    "                            strc[key][name][cate]['内容'][i]['用法']=new2\n",
    "                            del strc[key][name][cate]['内容'][i]['中药剂量及用法']"
   ]
  },
  {
   "cell_type": "code",
   "execution_count": 62,
   "metadata": {},
   "outputs": [],
   "source": [
    "#爬取的数据存入json\n",
    "filename='提取结构化5.5_2.json'\n",
    "with open(filename,'w',encoding='utf-8') as file_obj:\n",
    "    json.dump(strc,file_obj,ensure_ascii=False,indent = 4)"
   ]
  },
  {
   "cell_type": "code",
   "execution_count": 65,
   "metadata": {},
   "outputs": [],
   "source": [
    "#读取json中爬取的数据\n",
    "with open('提取结构化5.5_2.json',encoding=\"utf-8\") as file_obj:\n",
    "    strc=json.load(file_obj)"
   ]
  },
  {
   "cell_type": "code",
   "execution_count": 67,
   "metadata": {},
   "outputs": [],
   "source": [
    "for key in strc.keys():\n",
    "    for name in strc[key].keys():\n",
    "        for cate in strc[key][name].keys():\n",
    "            if '内容' in strc[key][name][cate]:\n",
    "                temp=strc[key][name][cate]['内容']\n",
    "                for i in range(0,len(temp)):\n",
    "                    dic=temp[i]\n",
    "                    if '用法' not in dic:\n",
    "                        con=temp[i]['中药剂量及用法']\n",
    "                        if \"用\"==con[0]:\n",
    "                            new=con[:]\n",
    "                            strc[key][name][cate]['内容'][i]['用法']=new\n",
    "                            del strc[key][name][cate]['内容'][i]['中药剂量及用法']"
   ]
  },
  {
   "cell_type": "code",
   "execution_count": 68,
   "metadata": {},
   "outputs": [],
   "source": [
    "#爬取的数据存入json\n",
    "filename='提取结构化5.5_2.json'\n",
    "with open(filename,'w',encoding='utf-8') as file_obj:\n",
    "    json.dump(strc,file_obj,ensure_ascii=False,indent = 4)"
   ]
  },
  {
   "cell_type": "code",
   "execution_count": 70,
   "metadata": {},
   "outputs": [],
   "source": [
    "#读取json中爬取的数据\n",
    "with open('提取结构化5.5_2.json',encoding=\"utf-8\") as file_obj:\n",
    "    strc=json.load(file_obj)"
   ]
  },
  {
   "cell_type": "code",
   "execution_count": 72,
   "metadata": {},
   "outputs": [],
   "source": [
    "for key in strc.keys():\n",
    "    for name in strc[key].keys():\n",
    "        for cate in strc[key][name].keys():\n",
    "            if '内容' in strc[key][name][cate]:\n",
    "                temp=strc[key][name][cate]['内容']\n",
    "                for i in range(0,len(temp)):\n",
    "                    dic=temp[i]\n",
    "                    if '用法' not in dic:\n",
    "                        con=temp[i]['中药剂量及用法']\n",
    "                        if \"）\"==con[-1]:\n",
    "                            new=con[:]\n",
    "                            strc[key][name][cate]['内容'][i]['中药剂量']=new\n",
    "                            del strc[key][name][cate]['内容'][i]['中药剂量及用法']"
   ]
  },
  {
   "cell_type": "code",
   "execution_count": 73,
   "metadata": {},
   "outputs": [],
   "source": [
    "#爬取的数据存入json\n",
    "filename='提取结构化5.5_2.json'\n",
    "with open(filename,'w',encoding='utf-8') as file_obj:\n",
    "    json.dump(strc,file_obj,ensure_ascii=False,indent = 4)"
   ]
  },
  {
   "cell_type": "code",
   "execution_count": 77,
   "metadata": {},
   "outputs": [],
   "source": [
    "for key in strc.keys():\n",
    "    for name in strc[key].keys():\n",
    "        for cate in strc[key][name].keys():\n",
    "            if '内容' in strc[key][name][cate]:\n",
    "                temp=strc[key][name][cate]['内容']\n",
    "                for i in range(0,len(temp)):\n",
    "                    dic=temp[i]\n",
    "                    if '中药剂量及用法' in dic:\n",
    "                        con=temp[i]['中药剂量及用法']\n",
    "                        if \"取\"==con[0]:\n",
    "                            new=con[:]\n",
    "                            strc[key][name][cate]['内容'][i]['用法']=new\n",
    "                            del strc[key][name][cate]['内容'][i]['中药剂量及用法']"
   ]
  },
  {
   "cell_type": "code",
   "execution_count": 78,
   "metadata": {},
   "outputs": [],
   "source": [
    "#爬取的数据存入json\n",
    "filename='提取结构化5.5_2.json'\n",
    "with open(filename,'w',encoding='utf-8') as file_obj:\n",
    "    json.dump(strc,file_obj,ensure_ascii=False,indent = 4)"
   ]
  },
  {
   "cell_type": "code",
   "execution_count": null,
   "metadata": {},
   "outputs": [],
   "source": []
  },
  {
   "cell_type": "code",
   "execution_count": 85,
   "metadata": {},
   "outputs": [],
   "source": [
    "#读取json中爬取的数据\n",
    "with open('提取结构化5.5_2.json',encoding=\"utf-8\") as file_obj:\n",
    "    strc=json.load(file_obj)"
   ]
  },
  {
   "cell_type": "code",
   "execution_count": 87,
   "metadata": {},
   "outputs": [],
   "source": [
    "for key in strc.keys():\n",
    "    for name in strc[key].keys():\n",
    "        for cate in strc[key][name].keys():\n",
    "            if '内容' in strc[key][name][cate]:\n",
    "                temp=strc[key][name][cate]['内容']\n",
    "                for i in range(0,len(temp)):\n",
    "                    dic=temp[i]\n",
    "                    if '中药剂量及用法' in dic:\n",
    "                        con=temp[i]['中药剂量及用法']\n",
    "                        if ' 煎' in con:\n",
    "                            index=con.index(' 煎')\n",
    "                            strc[key][name][cate]['内容'][i]['中药剂量']=con[:index]\n",
    "                            strc[key][name][cate]['内容'][i]['用法']=con[index+1:]\n",
    "                            del strc[key][name][cate]['内容'][i]['中药剂量及用法']"
   ]
  },
  {
   "cell_type": "code",
   "execution_count": 88,
   "metadata": {},
   "outputs": [],
   "source": [
    "#爬取的数据存入json\n",
    "filename='提取结构化5.5_3.json'\n",
    "with open(filename,'w',encoding='utf-8') as file_obj:\n",
    "    json.dump(strc,file_obj,ensure_ascii=False,indent = 4)"
   ]
  },
  {
   "cell_type": "code",
   "execution_count": null,
   "metadata": {},
   "outputs": [],
   "source": []
  },
  {
   "cell_type": "code",
   "execution_count": 94,
   "metadata": {},
   "outputs": [],
   "source": [
    "#读取json中爬取的数据\n",
    "with open('提取结构化5.5_3.json',encoding=\"utf-8\") as file_obj:\n",
    "    strc=json.load(file_obj)"
   ]
  },
  {
   "cell_type": "code",
   "execution_count": 95,
   "metadata": {},
   "outputs": [],
   "source": [
    "for key in strc.keys():\n",
    "    for name in strc[key].keys():\n",
    "        for cate in strc[key][name].keys():\n",
    "            if '内容' in strc[key][name][cate]:\n",
    "                temp=strc[key][name][cate]['内容']\n",
    "                for i in range(0,len(temp)):\n",
    "                    dic=temp[i]\n",
    "                    if '中药剂量及用法' in dic:\n",
    "                        con=temp[i]['中药剂量及用法']\n",
    "                        if ' 末。每服' in con:\n",
    "                            index=con.index(' 末。每服')\n",
    "                            strc[key][name][cate]['内容'][i]['中药剂量']=con[:index]\n",
    "                            strc[key][name][cate]['内容'][i]['用法']=con[index+1:]\n",
    "                            del strc[key][name][cate]['内容'][i]['中药剂量及用法']"
   ]
  },
  {
   "cell_type": "code",
   "execution_count": 97,
   "metadata": {},
   "outputs": [],
   "source": [
    "#爬取的数据存入json\n",
    "filename='提取结构化5.6.json'\n",
    "with open(filename,'w',encoding='utf-8') as file_obj:\n",
    "    json.dump(strc,file_obj,ensure_ascii=False,indent = 4)"
   ]
  },
  {
   "cell_type": "code",
   "execution_count": 106,
   "metadata": {},
   "outputs": [],
   "source": [
    "#读取json中爬取的数据\n",
    "with open('提取结构化5.6.json',encoding=\"utf-8\") as file_obj:\n",
    "    strc=json.load(file_obj)"
   ]
  },
  {
   "cell_type": "code",
   "execution_count": 103,
   "metadata": {},
   "outputs": [],
   "source": [
    "for key in strc.keys():\n",
    "    for name in strc[key].keys():\n",
    "        for cate in strc[key][name].keys():\n",
    "            if '内容' in strc[key][name][cate]:\n",
    "                temp=strc[key][name][cate]['内容']\n",
    "                for i in range(0,len(temp)):\n",
    "                    dic=temp[i]\n",
    "                    if '中药剂量及用法' in dic:\n",
    "                        con=temp[i]['中药剂量及用法']\n",
    "                        if '以'==con[0]:\n",
    "                            new=con[:]\n",
    "                            strc[key][name][cate]['内容'][i]['用法']=new\n",
    "                            del strc[key][name][cate]['内容'][i]['中药剂量及用法']"
   ]
  },
  {
   "cell_type": "code",
   "execution_count": 104,
   "metadata": {},
   "outputs": [],
   "source": [
    "#爬取的数据存入json\n",
    "filename='提取结构化5.6.json'\n",
    "with open(filename,'w',encoding='utf-8') as file_obj:\n",
    "    json.dump(strc,file_obj,ensure_ascii=False,indent = 4)"
   ]
  },
  {
   "cell_type": "code",
   "execution_count": 109,
   "metadata": {},
   "outputs": [],
   "source": [
    "for key in strc.keys():\n",
    "    for name in strc[key].keys():\n",
    "        for cate in strc[key][name].keys():\n",
    "            if '内容' in strc[key][name][cate]:\n",
    "                temp=strc[key][name][cate]['内容']\n",
    "                for i in range(0,len(temp)):\n",
    "                    dic=temp[i]\n",
    "                    if '中药剂量及用法' in dic:\n",
    "                        con=temp[i]['中药剂量及用法']\n",
    "                        if '为末。每服' in con:\n",
    "                            index=con.index('为末。每服')\n",
    "                            strc[key][name][cate]['内容'][i]['中药剂量']=con[:index]\n",
    "                            strc[key][name][cate]['内容'][i]['用法']=con[index:]\n",
    "                            del strc[key][name][cate]['内容'][i]['中药剂量及用法']"
   ]
  },
  {
   "cell_type": "code",
   "execution_count": null,
   "metadata": {},
   "outputs": [],
   "source": []
  },
  {
   "cell_type": "code",
   "execution_count": 11,
   "metadata": {},
   "outputs": [],
   "source": [
    "#读取json中爬取的数据\n",
    "with open('提取结构化5.6.json',encoding=\"utf-8\") as file_obj:\n",
    "    strc=json.load(file_obj)"
   ]
  },
  {
   "cell_type": "code",
   "execution_count": null,
   "metadata": {},
   "outputs": [],
   "source": []
  },
  {
   "cell_type": "code",
   "execution_count": 12,
   "metadata": {},
   "outputs": [],
   "source": [
    "diff={}\n",
    "dic={}\n",
    "for key in strc.keys():\n",
    "    diff[key]={}\n",
    "    dic[key]={}\n",
    "    for name in strc[key].keys():\n",
    "        diff[key][name]={}\n",
    "        dic[key][name]={}\n",
    "        for cate in strc[key][name].keys():\n",
    "            diff[key][name][cate]={}\n",
    "            dic[key][name][cate]={}\n",
    "            if '内容' in strc[key][name][cate]:\n",
    "                diff[key][name][cate]['内容']=[]\n",
    "                dic[key][name][cate]['内容']=[]\n",
    "                temp=strc[key][name][cate]['内容']\n",
    "                for i in range(0,len(temp)):\n",
    "                    if '中药剂量及用法' in temp[i]:\n",
    "                        diff[key][name][cate]['内容'].append(temp[i])\n",
    "                    else:\n",
    "                        dic[key][name][cate]['内容'].append(temp[i])"
   ]
  },
  {
   "cell_type": "code",
   "execution_count": 13,
   "metadata": {},
   "outputs": [],
   "source": [
    "#爬取的数据存入json\n",
    "filename='初划分5.6.json'\n",
    "with open(filename,'w',encoding='utf-8') as file_obj:\n",
    "    json.dump(dic,file_obj,ensure_ascii=False,indent = 4)\n",
    "    \n",
    "#爬取的数据存入json\n",
    "filename='特殊5.6.json'\n",
    "with open(filename,'w',encoding='utf-8') as file_obj:\n",
    "    json.dump(diff,file_obj,ensure_ascii=False,indent = 4)"
   ]
  },
  {
   "cell_type": "code",
   "execution_count": null,
   "metadata": {},
   "outputs": [],
   "source": []
  },
  {
   "cell_type": "code",
   "execution_count": 83,
   "metadata": {},
   "outputs": [],
   "source": [
    "#读取json中爬取的数据\n",
    "with open('初划分5.6.json',encoding=\"utf-8\") as file_obj:\n",
    "    dic=json.load(file_obj)"
   ]
  },
  {
   "cell_type": "code",
   "execution_count": 84,
   "metadata": {},
   "outputs": [],
   "source": [
    "#剂量中间的空格删除\n",
    "for key in dic.keys():\n",
    "    for name in dic[key].keys():\n",
    "        for cate in dic[key][name].keys():\n",
    "            if '内容' in dic[key][name][cate]:\n",
    "                temp=dic[key][name][cate]['内容']\n",
    "                for ii in range(0,len(temp)):\n",
    "                    i=temp[ii]\n",
    "                    if '中药剂量' in i:\n",
    "                        con=i['中药剂量']\n",
    "                        con=con.strip()\n",
    "                        if con.count('（')==con.count('）'):\n",
    "                            new=con[:]\n",
    "                            for j in range(0,len(con)):\n",
    "                                con=copy.deepcopy(new)\n",
    "                                if con[j]==' ':\n",
    "                                    for flag in range(j,-1,-1):\n",
    "                                        if con[flag]=='（':\n",
    "                                            index=con[j:].index('）')\n",
    "                                            new=con[:j]+con[j+1:]\n",
    "                                            #print(new)\n",
    "                                            dic[key][name][cate]['内容'][ii]['中药剂量']=new\n",
    "                                            break\n",
    "                                        elif con[flag]=='）':\n",
    "                                            dic[key][name][cate]['内容'][ii]['中药剂量']=new\n",
    "                                            break\n",
    "                                            \n",
    "                                if j==len(con)-1:\n",
    "                                    dic[key][name][cate]['内容'][ii]['中药剂量']=new\n",
    "                                    break"
   ]
  },
  {
   "cell_type": "code",
   "execution_count": 85,
   "metadata": {},
   "outputs": [],
   "source": [
    "filename='初划分5.6_2.json'\n",
    "with open(filename,'w',encoding='utf-8') as file_obj:\n",
    "    json.dump(dic,file_obj,ensure_ascii=False,indent = 4)"
   ]
  },
  {
   "cell_type": "code",
   "execution_count": 170,
   "metadata": {},
   "outputs": [],
   "source": [
    "#读取json中爬取的数据\n",
    "with open('初划分5.6_2.json',encoding=\"utf-8\") as file_obj:\n",
    "    dic=json.load(file_obj)"
   ]
  },
  {
   "cell_type": "code",
   "execution_count": 171,
   "metadata": {},
   "outputs": [],
   "source": [
    "for key in dic.keys():\n",
    "    for name in dic[key].keys():\n",
    "        for cate in dic[key][name].keys():\n",
    "            if '内容' in dic[key][name][cate]:\n",
    "                temp=dic[key][name][cate]['内容']\n",
    "                for i in range(0,len(temp)):\n",
    "                    if '中药剂量' in temp[i]:\n",
    "                        if '方见' in temp[i]['中药剂量']:\n",
    "                            con=temp[i]['中药剂量']\n",
    "                            dic[key][name][cate]['内容'][i]['用法']=con\n",
    "                            del dic[key][name][cate]['内容'][i]['中药剂量']"
   ]
  },
  {
   "cell_type": "code",
   "execution_count": 172,
   "metadata": {},
   "outputs": [],
   "source": [
    "for key in dic.keys():\n",
    "    for name in dic[key].keys():\n",
    "        for cate in dic[key][name].keys():\n",
    "            if '内容' in dic[key][name][cate]:\n",
    "                temp=dic[key][name][cate]['内容']\n",
    "                for i in range(0,len(temp)):\n",
    "                    if '中药剂量' in temp[i]:\n",
    "                        con=temp[i]['中药剂量']\n",
    "                        if '〔' in con:\n",
    "                            index1=con.index('〔')\n",
    "                            index2=con.index('〕')\n",
    "                            new=con[index1:index2+1].replace('（','/')\n",
    "                            new=new.replace('）','/')\n",
    "                            #print(new)\n",
    "                            dic[key][name][cate]['内容'][i]['中药剂量']=con.replace(con[index1:index2+1],new)\n",
    "                            #print(dic[key][name][cate]['内容'][i]['中药剂量'])"
   ]
  },
  {
   "cell_type": "code",
   "execution_count": 173,
   "metadata": {},
   "outputs": [],
   "source": [
    "filename='初划分5.7.json'\n",
    "with open(filename,'w',encoding='utf-8') as file_obj:\n",
    "    json.dump(dic,file_obj,ensure_ascii=False,indent = 4)"
   ]
  },
  {
   "cell_type": "code",
   "execution_count": 54,
   "metadata": {},
   "outputs": [],
   "source": [
    "for key in dic.keys():\n",
    "    for name in dic[key].keys():\n",
    "        for cate in dic[key][name].keys():\n",
    "            if '内容' in dic[key][name][cate]:\n",
    "                temp=dic[key][name][cate]['内容']\n",
    "                for ii in range(0,len(temp)):\n",
    "                    i=temp[ii]\n",
    "                    if '中药剂量' in i:\n",
    "                        con=i['中药剂量']\n",
    "                        con=con.strip()\n",
    "                        \n",
    "                        if '〕' in con:\n",
    "                            new1=con.split('〕')\n",
    "                        else:\n",
    "                            new1=[con]\n",
    "                        #print(new1)    \n",
    "                        new2=[]    \n",
    "                        for item in new1:\n",
    "                            tt=item.split('）')\n",
    "                            new2.extend(tt)\n",
    "                        \n",
    "                        for j in range(0,len(new2)):\n",
    "                            new2[j]=new2[j].strip()\n",
    "                        \n",
    "                        out=[]\n",
    "                        #print(con)\n",
    "                        for new2_item in new2:\n",
    "                            if ' ' in new2_item and ('（' in new2_item or '）' in new2_item):\n",
    "                                temp_item=new2_item.split(' ')\n",
    "                                flag=0\n",
    "                                jj=0\n",
    "                                while jj<len(temp_item):\n",
    "                                    temp_index=temp_item[jj]\n",
    "                                    if len(temp_index)==1:\n",
    "                                        if jj==len(temp_item)-1:\n",
    "                                            new_item=temp_item[jj-1]+temp_item[jj]\n",
    "                                            out.append(new_item)\n",
    "                                            jj+=1\n",
    "                                        else:\n",
    "                                            new_item=temp_item[jj]+temp_item[jj+1]\n",
    "                                            out.append(new_item)\n",
    "                                            jj+=1\n",
    "                                    else:\n",
    "                                        out.append(temp_index)\n",
    "                                        \n",
    "                                    jj+=1\n",
    "                            else:\n",
    "                                out.append(new2_item)\n",
    "                                \n",
    "                        dic[key][name][cate]['内容'][ii]['切分中药剂量']=[]\n",
    "                        for out_index in range(0,len(out)):\n",
    "                            if out[out_index]!='':\n",
    "                                dic[key][name][cate]['内容'][ii]['切分中药剂量'].append(out[out_index])"
   ]
  },
  {
   "cell_type": "code",
   "execution_count": 55,
   "metadata": {},
   "outputs": [],
   "source": [
    "#保存\n",
    "filename='初划分5.7_2.json'\n",
    "with open(filename,'w',encoding='utf-8') as file_obj:\n",
    "    json.dump(dic,file_obj,ensure_ascii=False,indent = 4)"
   ]
  },
  {
   "cell_type": "code",
   "execution_count": 95,
   "metadata": {},
   "outputs": [],
   "source": [
    "#读取json中爬取的数据\n",
    "with open('初划分5.7_2.json',encoding=\"utf-8\") as file_obj:\n",
    "    dic=json.load(file_obj)"
   ]
  },
  {
   "cell_type": "markdown",
   "metadata": {},
   "source": [
    "## 5.7"
   ]
  },
  {
   "cell_type": "code",
   "execution_count": 96,
   "metadata": {},
   "outputs": [
    {
     "name": "stdout",
     "output_type": "stream",
     "text": [
      "['防风（两锉微炒']\n",
      "['干菊（半两', '决明子（半两', '黄芩（半两', '川升麻（半两', '枳壳（半两面炒微黄去瓤', '防风 两锉微炒', '甘草（一钱炙微赤锉', '马牙硝（一钱研', '龙脑（一钱研', '麝香（一钱研']\n",
      "['干菊（半两', '决明子（半两', '黄芩（半两', '川升麻（半两', '枳壳（半两面炒微黄去瓤', '防风（两锉微炒', '甘草（一钱炙微赤锉', '马牙硝（一钱研', '龙脑（一钱研', '麝香（一钱研']\n",
      " \n",
      "['酸枣（两炮制锉']\n",
      "['五加皮', '茵芋', '防风（去芦头各一两', '天南星（半两炮裂', '白花蛇（二两酒浸炙黄取肉天分', '酸枣 两炮制锉']\n",
      "['五加皮', '茵芋', '防风（去芦头各一两', '天南星（半两炮裂', '白花蛇（二两酒浸炙黄取肉天分', '酸枣（两炮制锉']\n",
      " \n",
      "['干地黄', '当归', '通草', '升麻', '麦门冬', '禹（二两半']\n",
      "['丹参（三两', '芎?', '杜仲', '续断', '地骨皮（二两', '干地黄 当归 通草 升麻 麦门冬 禹 二两半']\n",
      "['丹参（三两', '芎?', '杜仲', '续断', '地骨皮（二两', '干地黄', '当归', '通草', '升麻', '麦门冬', '禹（二两半']\n",
      " \n",
      "['人参', '白（一两']\n",
      "['浓朴（去粗皮生姜汁炙透', '赤石脂（各一两半', '白术', '大麦（炒', '干姜（炮', '人参 白 一两']\n",
      "['浓朴（去粗皮生姜汁炙透', '赤石脂（各一两半', '白术', '大麦（炒', '干姜（炮', '人参', '白（一两']\n",
      " \n",
      "['诃（两']\n",
      "['浓朴（三两去粗皮涂生姜汁炙令香熟', '陈橘皮（二两汤浸去白瓤焙', '草豆蔻（一两去皮', '诃 两']\n",
      "['浓朴（三两去粗皮涂生姜汁炙令香熟', '陈橘皮（二两汤浸去白瓤焙', '草豆蔻（一两去皮', '诃（两']\n",
      " \n",
      "['陈（一两']\n",
      "['枳壳（麸炒', '茯苓（去皮', '白术', '浓朴（姜制', '半夏（汤洗', '人参', '木香', '青皮（去瓤', '陈 一两', '干生姜（半两', '牵牛（净微炒', '大黄（各二两']\n",
      "['枳壳（麸炒', '茯苓（去皮', '白术', '浓朴（姜制', '半夏（汤洗', '人参', '木香', '青皮（去瓤', '陈（一两', '干生姜（半两', '牵牛（净微炒', '大黄（各二两']\n",
      " \n",
      "['地骨皮', '生干地黄', '鳖', '赤锉（以上各半两']\n",
      "['柴胡（去苗', '桔梗（去芦头', '枳壳（麸炒微黄去瓤', '麦门冬（去心', '地骨皮 生干地黄 鳖 赤锉 以上各半两']\n",
      "['柴胡（去苗', '桔梗（去芦头', '枳壳（麸炒微黄去瓤', '麦门冬（去心', '地骨皮', '生干地黄', '鳖', '赤锉（以上各半两']\n",
      " \n",
      "['芎?', '射干', '荆芥穗', '山栀子仁', '紫苏叶', '杏仁（各半两']\n",
      "['麻黄（去根节汤煮去沫', '羌活（去芦头', '芎? 射干 荆芥穗 山栀子仁 紫苏叶 杏仁 各半两']\n",
      "['麻黄（去根节汤煮去沫', '羌活（去芦头', '芎?', '射干', '荆芥穗', '山栀子仁', '紫苏叶', '杏仁（各半两']\n",
      " \n",
      "['干木', '瓜（两去毛']\n",
      "['苍术（酒浸一两半', '虎胫骨（酥炙一两半', '川乌头（半两炮', '萆杜仲（姜炙', '干木 瓜 两去毛']\n",
      "['苍术（酒浸一两半', '虎胫骨（酥炙一两半', '川乌头（半两炮', '萆杜仲（姜炙', '干木', '瓜（两去毛']\n",
      " \n",
      "['安息香', '桃仁（两细研']\n",
      "['（微炒', '肉豆蔻（去壳各一两', '硐砂', '木香', '青橘皮（汤浸去白瓤焙', '安息香 桃仁 两细研', '阿魏（一分面裹煨面熟为度', '磁石（二两烧醋淬七遍捣碎细研水飞过']\n",
      "['（微炒', '肉豆蔻（去壳各一两', '硐砂', '木香', '青橘皮（汤浸去白瓤焙', '安息香', '桃仁（两细研', '阿魏（一分面裹煨面熟为度', '磁石（二两烧醋淬七遍捣碎细研水飞过']\n",
      " \n",
      "['荆芥（两']\n",
      "['芎?', '连翘', '羌活（去芦头', '柴胡（去苗', '防风（去叉', '黄芩（去黑心', '木贼（去节', '荆芥 两']\n",
      "['芎?', '连翘', '羌活（去芦头', '柴胡（去苗', '防风（去叉', '黄芩（去黑心', '木贼（去节', '荆芥（两']\n",
      " \n",
      "['槐子（两']\n",
      "['生油（一升', '真酥（三两', '莲子草汁（一升', '吴蓝（一两', '大青（一两', '葳蕤（一两', '槐子 两', '盐花']\n",
      "['生油（一升', '真酥（三两', '莲子草汁（一升', '吴蓝（一两', '大青（一两', '葳蕤（一两', '槐子（两', '盐花']\n",
      " \n",
      "['生地黄', '皮一两半']\n",
      "['苍耳（净拣', '防风（去叉', '恶实（炒各三两', '独活（去芦头', '木通〔各三/二/ 两', '生地黄 皮一两半', '白茯苓（去黑皮二两半']\n",
      "['苍耳（净拣', '防风（去叉', '恶实（炒各三两', '独活（去芦头', '木通〔各三/二/ 两', '生地黄 皮一两半', '白茯苓（去黑皮二两半']\n",
      " \n",
      "['杏（两']\n",
      "['磁石（醋淬七遍研半两', '菖蒲', '野狼牙', '木通（锉', '食盐（研', '薰陆香（研', '松脂（研', '杏 两']\n",
      "['磁石（醋淬七遍研半两', '菖蒲', '野狼牙', '木通（锉', '食盐（研', '薰陆香（研', '松脂（研', '杏（两']\n",
      " \n",
      "['荆芥（一两']\n",
      "['羌活', '独活', '前胡（去芦并锉', '人参', '桔梗', '防风（各去芦头', '芎?', '细辛（去苗', '荆芥 一两']\n",
      "['羌活', '独活', '前胡（去芦并锉', '人参', '桔梗', '防风（各去芦头', '芎?', '细辛（去苗', '荆芥（一两']\n",
      " \n",
      "['桂（一两']\n",
      "['青葙子', '甜瓜子仁', '菟丝子（酒浸三日曝干别杵为末', '面曲（炒令微黄', '乌梅肉（微', '乌梅肉（微炒', '桂 一两', '川大黄（二两锉碎微炒', '蕤仁（二两汤浸去赤皮', '细辛（二两', '炒去刺']\n",
      "['青葙子', '甜瓜子仁', '菟丝子（酒浸三日曝干别杵为末', '面曲（炒令微黄', '乌梅肉（微', '乌梅肉（微炒', '桂（一两', '川大黄（二两锉碎微炒', '蕤仁（二两汤浸去赤皮', '细辛（二两', '炒去刺']\n",
      " \n",
      "['甘菊（半两']\n",
      "['川芎', '当归', '白药子', '楮实', '本羌活（各一两半', '白蒺藜（各一两', '蛇皮（三钱', '甘菊 半两']\n",
      "['川芎', '当归', '白药子', '楮实', '本羌活（各一两半', '白蒺藜（各一两', '蛇皮（三钱', '甘菊（半两']\n",
      " \n",
      "['人参（两']\n",
      "['麻黄（三两去节', '甘草（二两炙', '石膏（四两碎绵裹', '杏仁（五十枚去双仁及皮尖碎', '人参 两']\n",
      "['麻黄（三两去节', '甘草（二两炙', '石膏（四两碎绵裹', '杏仁（五十枚去双仁及皮尖碎', '人参（两']\n",
      " \n",
      "['桂', '土二两半']\n",
      "['天麻（二两', '羌活（去芦头一两', '独活〔去芦头一/二/两', '乌蛇（酒炙用肉一两一分', '桂 土二两半', '细辛（去苗叶二', '瓤麸炒一（二', '两半', '白蒺藜（炒（去根节先煎掠去沫焙干二两一分']\n",
      "['天麻（二两', '羌活（去芦头一两', '独活〔去芦头一/二/两', '乌蛇（酒炙用肉一两一分', '桂 土二两半', '细辛（去苗叶二', '瓤麸炒一（二', '两半', '白蒺藜（炒（去根节先煎掠去沫焙干二两一分']\n",
      " \n",
      "['赤（两']\n",
      "['浓朴（去粗皮生姜汁炙半两', '陈橘皮（汤浸去白焙', '甘草（炙锉', '芎?', '肉豆蔻（去壳', '赤 两']\n",
      "['浓朴（去粗皮生姜汁炙半两', '陈橘皮（汤浸去白焙', '甘草（炙锉', '芎?', '肉豆蔻（去壳', '赤（两']\n",
      " \n",
      "['白芷（一两']\n",
      "['金箔（二钱半以火煨过用法酒淬五十次为度细剪如丝', '水银（一两', '辰砂（半两', '好硫黄（子一个盛之不四味入钵内去皮', '藿香叶（各焙干秤', '白术（炒', '白芷 一两', '牛膝（酒浸一宿焙干用三钱', '茸（火燎去毛酥炙三钱', '沉香（半两镑', '香（半两研', '白附子（炒', '当归（清酒浸一']\n",
      "['金箔（二钱半以火煨过用法酒淬五十次为度细剪如丝', '水银（一两', '辰砂（半两', '好硫黄（子一个盛之不四味入钵内去皮', '藿香叶（各焙干秤', '白术（炒', '白芷（一两', '牛膝（酒浸一宿焙干用三钱', '茸（火燎去毛酥炙三钱', '沉香（半两镑', '香（半两研', '白附子（炒', '当归（清酒浸一']\n",
      " \n",
      "['汉防己（两']\n",
      "['枳壳（麸炒微黄', '羚羊角屑', '细辛', '茵芋', '秦艽（去苗', '桂心', '附子（炮裂去皮脐', '汉防己 两']\n",
      "['枳壳（麸炒微黄', '羚羊角屑', '细辛', '茵芋', '秦艽（去苗', '桂心', '附子（炮裂去皮脐', '汉防己（两']\n",
      " \n",
      "['粉草（两']\n",
      "['侧子（炮', '附子（炮', '罗参', '白术（煨', '川芎', '白茯苓（去皮', '防风（去芦', '赤芍药', '当归（去根节二两', '粉草 两']\n",
      "['侧子（炮', '附子（炮', '罗参', '白术（煨', '川芎', '白茯苓（去皮', '防风（去芦', '赤芍药', '当归（去根节二两', '粉草（两']\n",
      " \n",
      "['白僵蚕（一两']\n",
      "['附子（一枚重七钱者面裹炮裂去皮脐', '草乌头（去皮二两半', '蝎地龙（白项者炒', '白僵蚕 一两']\n",
      "['附子（一枚重七钱者面裹炮裂去皮脐', '草乌头（去皮二两半', '蝎地龙（白项者炒', '白僵蚕（一两']\n",
      " \n",
      "['半（二两']\n",
      "['葛根（一两锉', '羌活（三两', '干姜（一两炮去皮锉', '桂心（一两半', '防风（二两去芦头', '半 二两', '天雄（炮裂去']\n",
      "['葛根（一两锉', '羌活（三两', '干姜（一两炮去皮锉', '桂心（一两半', '防风（二两去芦头', '半（二两', '天雄（炮裂去']\n",
      " \n",
      "['杏仁', '脐各一两']\n",
      "['麻黄（去根节', '人参（去芦头', '黄芩', '赤芍药', '芎?（各一两', '甘草（半两炙微赤锉', '杏仁 脐各一两']\n",
      "['麻黄（去根节', '人参（去芦头', '黄芩', '赤芍药', '芎?（各一两', '甘草（半两炙微赤锉', '杏仁 脐各一两']\n",
      " \n",
      "['羌（二两']\n",
      "['丹砂', '牛黄', '阿魏', '龙脑（以上并研', '水银', '天麻', '防风（去叉', '芎?', '细辛（去苗叶', '羌 二两']\n",
      "['丹砂', '牛黄', '阿魏', '龙脑（以上并研', '水银', '天麻', '防风（去叉', '芎?', '细辛（去苗叶', '羌（二两']\n",
      " \n",
      "['赤箭', '干（半两']\n",
      "['防风（去芦头', '白术', '莽草（各三分', '当归（锉微炒', '前胡（去芦头', '麻黄（去根节各一两', '去皮脐', '赤箭 干 半两', '人参（去芦头三分']\n",
      "['防风（去芦头', '白术', '莽草（各三分', '当归（锉微炒', '前胡（去芦头', '麻黄（去根节各一两', '去皮脐', '赤箭', '干（半两', '人参（去芦头三分']\n",
      " \n",
      "['白芷（两']\n",
      "['甘松（去土', '零陵香（各半两', '白僵蚕（生用一两', '莎草根（炒去毛', '白附子（生', '白芷 两', '草乌头（炮去皮山芋一两']\n",
      "['甘松（去土', '零陵香（各半两', '白僵蚕（生用一两', '莎草根（炒去毛', '白附子（生', '白芷（两', '草乌头（炮去皮山芋一两']\n",
      " \n",
      "['菖蒲（各半两']\n",
      "['钩藤', '铅丹（研', '茵芋叶', '石膏（各研', '杜蘅', '防葵', '秦艽（去土', '甘草（炙各一两', '菖蒲 各半两']\n",
      "['钩藤', '铅丹（研', '茵芋叶', '石膏（各研', '杜蘅', '防葵', '秦艽（去土', '甘草（炙各一两', '菖蒲（各半两']\n",
      " \n",
      "['麦（两']\n",
      "['铁粉（细研', '茯神（各一两', '远志（半两去心', '人参（一两去芦头', '防风（三分去芦头', '麦 两', '朱']\n",
      "['铁粉（细研', '茯神（各一两', '远志（半两去心', '人参（一两去芦头', '防风（三分去芦头', '麦（两', '朱']\n",
      " \n",
      "['牡蛎（两']\n",
      "['赤茯苓', '柴胡（去苗', '龙骨（各二两', '川大黄（二两锉碎微炒', '黄芩', '人参（去芦头', '牡蛎 两']\n",
      "['赤茯苓', '柴胡（去苗', '龙骨（各二两', '川大黄（二两锉碎微炒', '黄芩', '人参（去芦头', '牡蛎（两']\n",
      " \n",
      "['枇杷叶（半两拭去毛炙微黄']\n",
      "['竹茹', '陈橘皮（汤浸去白瓤焙', '葛根（锉', '人参（去芦头', '芦根（锉各一两', '枇杷叶 半两拭去毛炙微黄']\n",
      "['竹茹', '陈橘皮（汤浸去白瓤焙', '葛根（锉', '人参（去芦头', '芦根（锉各一两', '枇杷叶（半两拭去毛炙微黄']\n",
      " \n",
      "['人参（两']\n",
      "['枳壳（去瓤麸炒捣末米醋二升别研如膏', '木香', '薏苡仁', '黄连（去须', '大黄（锉炒', '人参 两']\n",
      "['枳壳（去瓤麸炒捣末米醋二升别研如膏', '木香', '薏苡仁', '黄连（去须', '大黄（锉炒', '人参（两']\n",
      " \n",
      "['桂心（两']\n",
      "['半夏（一两汤洗七遍去滑', '杏仁（一两汤浸去皮尖双仁麸炒微黄', '野狼毒（一两微煨锉', '桂心 两']\n",
      "['半夏（一两汤洗七遍去滑', '杏仁（一两汤浸去皮尖双仁麸炒微黄', '野狼毒（一两微煨锉', '桂心（两']\n",
      " \n",
      "['枸（两']\n",
      "['熟干地黄', '鸡（微炙', '黄耆（锉', '白茯苓（各一两', '麦门冬（去心', '桑螵蛸（微炙', '枸 两']\n",
      "['熟干地黄', '鸡（微炙', '黄耆（锉', '白茯苓（各一两', '麦门冬（去心', '桑螵蛸（微炙', '枸（两']\n",
      " \n",
      "['白芍（两']\n",
      "['鹿茸（二两去毛涂酪炙微黄', '人参（二两去芦头', '泽泻（三分', '赤石脂（三分', '石斛（三分分锉', '白芍 两', '龙骨（三分']\n",
      "['鹿茸（二两去毛涂酪炙微黄', '人参（二两去芦头', '泽泻（三分', '赤石脂（三分', '石斛（三分分锉', '白芍（两', '龙骨（三分']\n",
      " \n",
      "['木香（二两']\n",
      "['紫苏茎叶', '桑根白皮（锉', '赤茯苓（去黑皮各一两', '羚羊角（镑', '槟榔（锉各三分', '木香 二两']\n",
      "['紫苏茎叶', '桑根白皮（锉', '赤茯苓（去黑皮各一两', '羚羊角（镑', '槟榔（锉各三分', '木香（二两']\n",
      " \n",
      "['没药（两二钱']\n",
      "['白术', '川牛膝（酒浸', '杜仲（炒', '附子（炮', '虎胫骨（酒炙各一两', '黄耆（七分半', '没药 两二钱', '川芎（七钱半']\n",
      "['白术', '川牛膝（酒浸', '杜仲（炒', '附子（炮', '虎胫骨（酒炙各一两', '黄耆（七分半', '没药（两二钱', '川芎（七钱半']\n",
      " \n",
      "['酸枣仁（两半']\n",
      "['羌活', '汉防己（各一两', '荆芥', '薏苡仁（各二两', '防风（一两', '麻黄（一两半去芦', '酸枣仁 两半']\n",
      "['羌活', '汉防己（各一两', '荆芥', '薏苡仁（各二两', '防风（一两', '麻黄（一两半去芦', '酸枣仁（两半']\n",
      " \n",
      "['防（两']\n",
      "['天蓼木（一两', '天麻（半两', '白附子（半两炮', '芎?（半两', '独活（半两', '细辛（半两', '防 两', '石斛（半两去根', '蚕蛾（半两微炒']\n",
      "['天蓼木（一两', '天麻（半两', '白附子（半两炮', '芎?（半两', '独活（半两', '细辛（半两', '防（两', '石斛（半两去根', '蚕蛾（半两微炒']\n",
      " \n",
      "['蔓荆', '实人参', '薏（各半两']\n",
      "['茯神（去木', '羌活（去芦', '麦门冬（去心焙', '龙齿', '麻黄（去根各一两', '蔓荆 实人参 薏 各半两']\n",
      "['茯神（去木', '羌活（去芦', '麦门冬（去心焙', '龙齿', '麻黄（去根各一两', '蔓荆', '实人参', '薏（各半两']\n",
      " \n",
      "['陈橘（两炙锉']\n",
      "['大腹皮（一两锉', '桑根白皮（三分锉', '前胡（一两去芦头', '槟榔', '赤茯苓（各一两', '陈橘 两炙锉']\n",
      "['大腹皮（一两锉', '桑根白皮（三分锉', '前胡（一两去芦头', '槟榔', '赤茯苓（各一两', '陈橘（两炙锉']\n",
      " \n",
      "['沉香', '京三棱', '蓬莪术', '白豆蔻仁', '人参', '缩砂仁', '丁皮', '荜澄茄', '草果仁', '益智仁', '丁香（一两']\n",
      "['沉香 京三棱 蓬莪术 白豆蔻仁 人参 缩砂仁 丁皮 荜澄茄 草果仁 益智仁 丁香 一两', '甘']\n",
      "['沉香', '京三棱', '蓬莪术', '白豆蔻仁', '人参', '缩砂仁', '丁皮', '荜澄茄', '草果仁', '益智仁', '丁香（一两', '甘']\n",
      " \n",
      "['三棱（两']\n",
      "['肉豆蔻仁', '木香', '干姜（炮', '浓朴（去粗皮生姜汁制', '青皮（去白', '甘草（炙各五两', '三棱 两']\n",
      "['肉豆蔻仁', '木香', '干姜（炮', '浓朴（去粗皮生姜汁制', '青皮（去白', '甘草（炙各五两', '三棱（两']\n",
      " \n",
      "['黑附', '草', '去皮脐各一两半']\n",
      "['木香白术生犀角山茵陈（去梗', '白豆蔻缩砂仁桂（去粗皮', '人参（去芦头', '黑附 草 去皮脐各一两半', '陈皮（去白', '白芍药干姜（炮', '桔梗防风紫菀（去土', '皮', '白芜荑（炒去皮', '吴茱萸（洗焙干各半两']\n",
      "['木香白术生犀角山茵陈（去梗', '白豆蔻缩砂仁桂（去粗皮', '人参（去芦头', '黑附 草 去皮脐各一两半', '陈皮（去白', '白芍药干姜（炮', '桔梗防风紫菀（去土', '皮', '白芜荑（炒去皮', '吴茱萸（洗焙干各半两']\n",
      " \n",
      "['补（一两']\n",
      "['巴戟', '鹿茸（去毛酥炙微黄', '蛇床子', '远志', '薯蓣', '熟地黄', '山茱萸', '附子（炮去皮', '附子（炮去皮脐', '补 一两']\n",
      "['巴戟', '鹿茸（去毛酥炙微黄', '蛇床子', '远志', '薯蓣', '熟地黄', '山茱萸', '附子（炮去皮', '附子（炮去皮脐', '补（一两']\n",
      " \n",
      "['牛（两']\n",
      "['羌活（去芦', '独活（去芦', '青皮（去白焙', '附子（炮裂去皮脐各二两', '虎骨（涂', '醋炙黄', '牛 两', '木香（一分']\n",
      "['羌活（去芦', '独活（去芦', '青皮（去白焙', '附子（炮裂去皮脐各二两', '虎骨（涂', '醋炙黄', '牛（两', '木香（一分']\n",
      " \n",
      "['柴胡（各半两']\n",
      "['木香', '肉豆蔻（去壳', '陈橘皮（汤浸去白焙', '干姜（炮裂', '附子（炮裂去皮脐', '郁李仁（去（炒', '柴胡 各半两']\n",
      "['木香', '肉豆蔻（去壳', '陈橘皮（汤浸去白焙', '干姜（炮裂', '附子（炮裂去皮脐', '郁李仁（去（炒', '柴胡（各半两']\n",
      " \n",
      "['人参麻（两']\n",
      "['秦艽（去苗土五钱', '柴胡（去苗五钱', '白茯苓（去黑心皮五钱', '鳖甲（去裙', '醋炙各五钱', '人参麻 两']\n",
      "['秦艽（去苗土五钱', '柴胡（去苗五钱', '白茯苓（去黑心皮五钱', '鳖甲（去裙', '醋炙各五钱', '人参麻（两']\n",
      " \n",
      "['桂（一两']\n",
      "['蓬莪术（炮锉', '木香', '大黄（微炒', '当归（切炒', '芎?', '京三棱（炮锉', '草豆', '蔻（去皮', '桂 一两']\n",
      "['蓬莪术（炮锉', '木香', '大黄（微炒', '当归（切炒', '芎?', '京三棱（炮锉', '草豆', '蔻（去皮', '桂（一两']\n",
      " \n",
      "['浓（两不见火']\n",
      "['橘核（炒', '海藻（洗', '昆布（洗', '海带（洗', '川楝肉（取肉炒', '桃仁（去皮尖炒各一两', '浓 两不见火']\n",
      "['橘核（炒', '海藻（洗', '昆布（洗', '海带（洗', '川楝肉（取肉炒', '桃仁（去皮尖炒各一两', '浓（两不见火']\n",
      " \n",
      "['大腹（两']\n",
      "['汉防风', '赤茯苓', '木通（锉', '枳壳（麸炒去瓤各三分', '桑根白皮（锉', '紫苏茎叶（锉', '大腹 两']\n",
      "['汉防风', '赤茯苓', '木通（锉', '枳壳（麸炒去瓤各三分', '桑根白皮（锉', '紫苏茎叶（锉', '大腹（两']\n",
      " \n",
      "['白蒺藜（半两']\n",
      "['牛蒡子（微炒', '川大黄（锉微炒', '黄连（去须各一两', '川升麻', '黄芩', '秦艽（去', '秦艽（去苗', '白蒺藜 半两']\n",
      "['牛蒡子（微炒', '川大黄（锉微炒', '黄连（去须各一两', '川升麻', '黄芩', '秦艽（去', '秦艽（去苗', '白蒺藜（半两']\n",
      " \n",
      "['木香', '沉香（两半']\n",
      "['消犀角（镑', '独活（去芦头', '生麦门冬（去心焙各二两', '枳壳（去稂麸炒二两', '木香 沉香 两半', '玄参（九两', '连翘（六两', '漏芦（半两', '一两']\n",
      "['消犀角（镑', '独活（去芦头', '生麦门冬（去心焙各二两', '枳壳（去稂麸炒二两', '木香', '沉香（两半', '玄参（九两', '连翘（六两', '漏芦（半两', '一两']\n",
      " \n",
      "['桂（一两一分']\n",
      "['独活（去芦头四两', '防风（去叉', '黄耆（锉', '甘草（炙令赤色锉各一两一分', '玄参苦参（三分', '黄连（蔹细辛（去苗叶', '桂 一两一分', '麻黄（去根节', '杏 两', '山茱萸（一两一分', '生干地黄（焙二心一两', '磁石（三两以火烧通赤入酒中淬十次']\n",
      "['独活（去芦头四两', '防风（去叉', '黄耆（锉', '甘草（炙令赤色锉各一两一分', '玄参苦参（三分', '黄连（蔹细辛（去苗叶', '桂（一两一分', '麻黄（去根节', '杏 两', '山茱萸（一两一分', '生干地黄（焙二心一两', '磁石（三两以火烧通赤入酒中淬十次']\n",
      " \n",
      "['杏（两']\n",
      "['独活（去芦头四两', '防风（去叉', '黄耆（锉', '甘草（炙令赤色锉各一两一分', '玄参苦参（三分', '黄连（蔹细辛（去苗叶', ['桂（一两一分'], '麻黄（去根节', '杏 两', '山茱萸（一两一分', '生干地黄（焙二心一两', '磁石（三两以火烧通赤入酒中淬十次']\n",
      "['独活（去芦头四两', '防风（去叉', '黄耆（锉', '甘草（炙令赤色锉各一两一分', '玄参苦参（三分', '黄连（蔹细辛（去苗叶', '桂（一两一分', '麻黄（去根节', '杏（两', '山茱萸（一两一分', '生干地黄（焙二心一两', '磁石（三两以火烧通赤入酒中淬十次']\n",
      " \n",
      "['羚羊角（两麸炒微黄去']\n",
      "['半夏（汤洗七次去滑', '射干', '牛蒡子（炒研各一两', '杏仁（汤浸去皮尖双仁炒令黄', '羚羊角 两麸炒微黄去']\n",
      "['半夏（汤洗七次去滑', '射干', '牛蒡子（炒研各一两', '杏仁（汤浸去皮尖双仁炒令黄', '羚羊角（两麸炒微黄去']\n",
      " \n",
      "['白藓（半两']\n",
      "['茯神（去木一两', '白术（一两', '旋复（半两', '缩砂蜜（去皮三分', '大黄（煨锉', '半两', '芍药', '麻仁（别研二两', '枳壳（一两', '白槟榔（锉三分', '白藓 半两']\n",
      "['茯神（去木一两', '白术（一两', '旋复（半两', '缩砂蜜（去皮三分', '大黄（煨锉', '半两', '芍药', '麻仁（别研二两', '枳壳（一两', '白槟榔（锉三分', '白藓（半两']\n",
      " \n",
      "['磁石（各三两']\n",
      "['生玄参（汁', '生葛（汁各三升', '银（十两', '寒水石（捣末', '石膏（捣末', '滑石（捣末', '磁石 各三两', '芒硝（一斤']\n",
      "['生玄参（汁', '生葛（汁各三升', '银（十两', '寒水石（捣末', '石膏（捣末', '滑石（捣末', '磁石（各三两', '芒硝（一斤']\n",
      " \n",
      "['菖（两去心']\n",
      "['天雄（一两炮裂去皮脐', '蛇床子（三分', '细辛（半两', '川大黄（半两锉碎为妙', '杜仲（三分（三分锉', '菖 两去心', '川椒（半两去目闭口', '茱萸（三分', '白术（三分']\n",
      "['天雄（一两炮裂去皮脐', '蛇床子（三分', '细辛（半两', '川大黄（半两锉碎为妙', '杜仲（三分（三分锉', '菖（两去心', '川椒（半两去目闭口', '茱萸（三分', '白术（三分']\n",
      " \n",
      "['附（半两']\n",
      "['熟干地黄（焙', '当归（切焙', '萆防风（去叉芦', '桂（去粗皮', '干漆（捣碎', '炒烟出', '附 半两']\n",
      "['熟干地黄（焙', '当归（切焙', '萆防风（去叉芦', '桂（去粗皮', '干漆（捣碎', '炒烟出', '附（半两']\n",
      " \n",
      "['人（两']\n",
      "['钩藤', '陈皮（去白', '半夏（汤洗七次切片子', '麦门冬（去心', '茯苓（去皮', '茯神（去木', '人 两']\n",
      "['钩藤', '陈皮（去白', '半夏（汤洗七次切片子', '麦门冬（去心', '茯苓（去皮', '茯神（去木', '人（两']\n",
      " \n",
      "['细辛（两']\n",
      "['人参（一两去芦头', '远志（半两去心', '当归（三分锉微分炒', '附子（半两炮裂去皮脐', '细辛  两', '茯神（一两', '黄 微赤锉']\n",
      "['人参（一两去芦头', '远志（半两去心', '当归（三分锉微分炒', '附子（半两炮裂去皮脐', '细辛（两', '茯神（一两', '黄 微赤锉']\n",
      " \n",
      "['黄（两']\n",
      "['刺蓟（二两', '鸡苏叶（二两', '赤芍药', '麦门冬（二两去心', '赤茯苓（一两', '石膏（三两', '黄 两']\n",
      "['刺蓟（二两', '鸡苏叶（二两', '赤芍药', '麦门冬（二两去心', '赤茯苓（一两', '石膏（三两', '黄（两']\n",
      " \n",
      "['陈橘皮（一两']\n",
      "['半夏（汤浸去滑生姜汁制炮焙一两', '人参（一两半', '浓朴（去粗皮姜汁炙过一两半', '陈橘皮 一两']\n",
      "['半夏（汤浸去滑生姜汁制炮焙一两', '人参（一两半', '浓朴（去粗皮姜汁炙过一两半', '陈橘皮（一两']\n",
      " \n",
      "['苏（两炮裂锉']\n",
      "['杨柳树上寄生（一两', '白术（一两', '桂心（半两', '茵芋（半两', '天雄（半两炮', '裂去皮脐', '苏 两炮裂锉']\n",
      "['杨柳树上寄生（一两', '白术（一两', '桂心（半两', '茵芋（半两', '天雄（半两炮', '裂去皮脐', '苏（两炮裂锉']\n",
      " \n",
      "['干漆（两']\n",
      "['大黄（锉炒', '砂石（熬沸研细各二两', '蜀椒（去目及合口者炒去汗半两', '代赭（别', '代赭（别研', '干漆 两']\n",
      "['大黄（锉炒', '砂石（熬沸研细各二两', '蜀椒（去目及合口者炒去汗半两', '代赭（别', '代赭（别研', '干漆（两']\n",
      " \n",
      "['赤石脂', '干地黄', '干姜', '龙骨', '桂心', '石苇（两']\n",
      "['白石脂', '乌贼骨', '禹余粮', '牡蛎（各十八铢', '赤石脂 干地黄 干姜 龙骨 桂心 石苇 两']\n",
      "['白石脂', '乌贼骨', '禹余粮', '牡蛎（各十八铢', '赤石脂', '干地黄', '干姜', '龙骨', '桂心', '石苇（两']\n",
      " \n",
      "['熟干地黄（半两']\n",
      "['白薇', '柏子仁（研', '附子（炮制去皮脐', '鳖甲（醋炙去裙', '当归（切焙', '黄耆（锉各一两', '芦头各三分', '熟干地黄 半两']\n",
      "['白薇', '柏子仁（研', '附子（炮制去皮脐', '鳖甲（醋炙去裙', '当归（切焙', '黄耆（锉各一两', '芦头各三分', '熟干地黄（半两']\n",
      " \n",
      "['白芷（两']\n",
      "['泽兰（二两六铢', '当归', '甘草（一两十八铢', '芎?', '柏子仁', '防风', '茯苓（各一两', '白芷 两']\n",
      "['泽兰（二两六铢', '当归', '甘草（一两十八铢', '芎?', '柏子仁', '防风', '茯苓（各一两', '白芷（两']\n",
      " \n",
      "['麦门（两去芦头']\n",
      "['紫石英（一两半细研水飞过', '白石英（一两半细研水飞过', '钟乳粉（一两半', '熟干地黄（一两锉', '麦门 两去芦头', '甘草（半两炙微赤锉', '桂心（一两', '芎?（一两']\n",
      "['紫石英（一两半细研水飞过', '白石英（一两半细研水飞过', '钟乳粉（一两半', '熟干地黄（一两锉', '麦门（两去芦头', '甘草（半两炙微赤锉', '桂心（一两', '芎?（一两']\n",
      " \n",
      "['黄芩', '芎?（各半两']\n",
      "['前胡（三分去芦头', '石膏（二两', '麻黄（一两去根节', '葛根（锉', '人参（去芦头', '黄芩 芎? 各半两']\n",
      "['前胡（三分去芦头', '石膏（二两', '麻黄（一两去根节', '葛根（锉', '人参（去芦头', '黄芩', '芎?（各半两']\n",
      " \n",
      "['熟干（一两半']\n",
      "['鹿茸（一两去毛涂酥炙', '黄耆（锉一两半', '牡蛎（一两半烧为末', '人参（一两去芦头', '熟干 一两半']\n",
      "['鹿茸（一两去毛涂酥炙', '黄耆（锉一两半', '牡蛎（一两半烧为末', '人参（一两去芦头', '熟干（一两半']\n",
      " \n",
      "['干姜', '虫', '牡丹', '牡蒙', '浓朴', '硝石', '前胡', '蜀椒', '黄芩', '桔梗', '茯苓', '细辛', '葶苈', '人（两']\n",
      "['干姜 虫 牡丹 牡蒙 浓朴 硝石 前胡 蜀椒 黄芩 桔梗 茯苓 细辛 葶苈 人 两']\n",
      "['干姜', '虫', '牡丹', '牡蒙', '浓朴', '硝石', '前胡', '蜀椒', '黄芩', '桔梗', '茯苓', '细辛', '葶苈', '人（两']\n",
      " \n"
     ]
    }
   ],
   "source": [
    "for key in dic.keys():\n",
    "    for name in dic[key].keys():\n",
    "        for cate in dic[key][name].keys():\n",
    "            if '内容' in dic[key][name][cate]:\n",
    "                temp=dic[key][name][cate]['内容']\n",
    "                for ii in range(0,len(temp)):\n",
    "                    i=temp[ii]\n",
    "                    if '切分中药剂量' in i:\n",
    "                        for item_index in range(0,len(i['切分中药剂量'])):\n",
    "                            item=i['切分中药剂量'][item_index]\n",
    "                            flag=0\n",
    "                            if '（' not in item and '〔' not in item:\n",
    "                                if ' ' in item and '两' in item:\n",
    "                                    t=item.split()\n",
    "                                    new=[]\n",
    "                                    for tt in range(0,len(t)):\n",
    "                                        if '两'==t[tt][0] or '一两'==t[tt][0:2] or '各'==t[tt][0] or '以上'==t[tt][0:2] or '半两'==t[tt][0:2] or '二两'==t[tt][0:2]:\n",
    "                                            flag=1\n",
    "                                            new[tt-1]=t[tt-1]+'（'+t[tt]\n",
    "                                        else:\n",
    "                                            new.append(t[tt])\n",
    "                                    print(new)\n",
    "                                    print(i['切分中药剂量'])\n",
    "                                    if flag==1:\n",
    "                                        i['切分中药剂量'][item_index]=new\n",
    "                                    \n",
    "                                    new_zhon=[]\n",
    "                                    for j in range(0,len(i['切分中药剂量'])):\n",
    "                                        if type(i['切分中药剂量'][j])!=list:\n",
    "                                            new_zhon.append(i['切分中药剂量'][j])\n",
    "                                        else:\n",
    "                                            new_zhon.extend(i['切分中药剂量'][j])\n",
    "                                    print(new_zhon)\n",
    "                                    print(' ')\n",
    "                                    #i['切分中药剂量'][item_index]\n",
    "                                    \n",
    "                        #print(i['切分中药剂量'])\n",
    "                        #print(' ')"
   ]
  },
  {
   "cell_type": "code",
   "execution_count": null,
   "metadata": {},
   "outputs": [],
   "source": []
  },
  {
   "cell_type": "code",
   "execution_count": null,
   "metadata": {},
   "outputs": [],
   "source": [
    "#读取json中爬取的数据\n",
    "with open('初划分5.7_2.json',encoding=\"utf-8\") as file_obj:\n",
    "    dic=json.load(file_obj)"
   ]
  },
  {
   "cell_type": "code",
   "execution_count": 97,
   "metadata": {},
   "outputs": [],
   "source": [
    "for key in dic.keys():\n",
    "    for name in dic[key].keys():\n",
    "        for cate in dic[key][name].keys():\n",
    "            if '内容' in dic[key][name][cate]:\n",
    "                temp=dic[key][name][cate]['内容']\n",
    "                for ii in range(0,len(temp)):\n",
    "                    i=temp[ii]\n",
    "                    if '切分中药剂量' in i:\n",
    "                        new=[]\n",
    "                        flag=0\n",
    "                        for item_index in range(0,len(i['切分中药剂量'])):\n",
    "                            item=i['切分中药剂量'][item_index]\n",
    "                            if ' ' in item:\n",
    "                                flag=1\n",
    "                                if '/' not in item or '〔' not in item:\n",
    "                                    item_temp=item.split()\n",
    "                                    if '一'==item_temp[-1][0] or '各'==item_temp[-1][0] or '半'==item_temp[-1][0] or '以上'==item_temp[-1][0:2] or '二'==item_temp[-1][0] or '炒'==item_temp[-1][0] or '炙'==item_temp[-1][0] or '焙'==item_temp[-1][0] or '炮'==item_temp[-1][0] or '微炒'==item_temp[-1][0:2] or '枚'==item_temp[-1][0:2] or '分'==item_temp[-1][0] or '片'==item_temp[-1][0] or '研'==item_temp[-1][0] or '麸'==item_temp[-1][0] or '钱'==item_temp[-1][0] and '半夏'!=item_temp[-1][0:2]:\n",
    "                                        item_temp[-2]=item_temp[-2]+'（'+item_temp[-1]\n",
    "                                        #print(item_temp)\n",
    "                                        #print('a')\n",
    "                                        del item_temp[-1]\n",
    "                                    new.extend(item_temp)\n",
    "                                else:\n",
    "                                    new.append(i['切分中药剂量'][item_index])\n",
    "                            else:\n",
    "                                new.append(i['切分中药剂量'][item_index])\n",
    "                        \n",
    "                        \n",
    "                        dic[key][name][cate]['内容'][ii]['切分中药剂量']=new"
   ]
  },
  {
   "cell_type": "code",
   "execution_count": 98,
   "metadata": {},
   "outputs": [],
   "source": [
    "#保存\n",
    "filename='初划分5.8.json'\n",
    "with open(filename,'w',encoding='utf-8') as file_obj:\n",
    "    json.dump(dic,file_obj,ensure_ascii=False,indent = 4)"
   ]
  },
  {
   "cell_type": "code",
   "execution_count": 103,
   "metadata": {},
   "outputs": [],
   "source": [
    "for key in dic.keys():\n",
    "    for name in dic[key].keys():\n",
    "        for cate in dic[key][name].keys():\n",
    "            if '内容' in dic[key][name][cate]:\n",
    "                temp=dic[key][name][cate]['内容']\n",
    "                for ii in range(0,len(temp)):\n",
    "                    i=temp[ii]\n",
    "                    if '切分中药剂量' in i:\n",
    "                        new=[]\n",
    "                        for con in i['切分中药剂量']:\n",
    "                            if type(con)==list:\n",
    "                                new.extend(con)\n",
    "                            else:\n",
    "                                new.append(con)\n",
    "                        dic[key][name][cate]['内容'][ii]['切分中药剂量']=new"
   ]
  },
  {
   "cell_type": "code",
   "execution_count": 104,
   "metadata": {},
   "outputs": [],
   "source": [
    "#保存\n",
    "filename='初划分5.8.json'\n",
    "with open(filename,'w',encoding='utf-8') as file_obj:\n",
    "    json.dump(dic,file_obj,ensure_ascii=False,indent = 4)"
   ]
  },
  {
   "cell_type": "code",
   "execution_count": null,
   "metadata": {},
   "outputs": [],
   "source": []
  },
  {
   "cell_type": "markdown",
   "metadata": {},
   "source": [
    " # 5.10"
   ]
  },
  {
   "cell_type": "code",
   "execution_count": 66,
   "metadata": {},
   "outputs": [],
   "source": [
    "#读取json中爬取的数据\n",
    "with open('初划分5.8.json',encoding=\"utf-8\") as file_obj:\n",
    "    dic=json.load(file_obj)"
   ]
  },
  {
   "cell_type": "code",
   "execution_count": 67,
   "metadata": {},
   "outputs": [],
   "source": [
    "#中药和中药之间还没分开的进行分开\n",
    "for key in dic.keys():\n",
    "    for name in dic[key].keys():\n",
    "        for cate in dic[key][name].keys():\n",
    "            if '内容' in dic[key][name][cate]:\n",
    "                temp=dic[key][name][cate]['内容']\n",
    "                for ii in range(0,len(temp)):\n",
    "                    i=temp[ii]\n",
    "                    if '切分中药剂量' in i:\n",
    "                        jiliang=i['切分中药剂量']\n",
    "                        for ji_index in range(0,len(jiliang)):\n",
    "                            ji=jiliang[ji_index]\n",
    "                            if ' ' in ji:\n",
    "                                index=ji.index('〔')\n",
    "                                #前部分\n",
    "                                pre=ji[:index]\n",
    "                                pre=pre.split()\n",
    "                                #后部分\n",
    "                                last=ji[index:]\n",
    "                                #替换\n",
    "                                last=last.replace('〔','（')\n",
    "                                last=last.replace(' ','')\n",
    "                                count=0\n",
    "                                last=list(last)\n",
    "                                for last_index in range(0,len(last)):\n",
    "                                    if last[last_index]=='/' and count==0:\n",
    "                                        last[last_index]='['\n",
    "                                        count+=1\n",
    "                                    elif last[last_index]=='/' and count==1:\n",
    "                                        last[last_index]=']'\n",
    "                                last=''.join(last)\n",
    "                                \n",
    "                                #print(pre,last)\n",
    "                                #组合\n",
    "                                #pre[-1]=pre[-1]+last\n",
    "                                \n",
    "                                #如果整个括号后面的都是各xx钱 各xx分 各xx两之类的话 直接把这个剂量给整个列表的中药\n",
    "                                if len(pre)>1:\n",
    "                                    temp_last=last.replace(']','')\n",
    "                                    if (temp_last[1]=='各' or temp_last[1:4]=='以上各') and (temp_last[-1]=='两' or temp_last[-1]=='钱' or temp_last[-1]=='分' or temp_last[-1]=='两' or temp_last[-1]=='半' or temp_last[-1]=='铢' or temp_last[-1]=='斤' ):\n",
    "                                        #把剂量平均分配给每一个前面的中药\n",
    "                                        if '以上各' ==last[1:4]:\n",
    "                                            insert=last.replace('以上各','')\n",
    "                                        else:\n",
    "                                            insert=last.replace('各','')\n",
    "                                        for pre_index in range(0,len(pre)):\n",
    "                                            pre[pre_index]=pre[pre_index]+insert\n",
    "                                    else:\n",
    "                                        #如果 各 在last里面的话 也就是一部分是剂量 一部分是操作\n",
    "                                        if '各' in last:\n",
    "                                            last_index=last.index('各')\n",
    "                                            insert1=last[:last_index]\n",
    "                                            insert2=last[last_index+1:]\n",
    "                                            for pre_index in range(0,len(pre)-1):\n",
    "                                                pre[pre_index]=pre[pre_index]+'（'+insert2\n",
    "                                            pre[-1]=pre[-1]+insert1+'，'+insert2\n",
    "                                        elif '以上各' in last:\n",
    "                                            last_index=last.index('以上各')\n",
    "                                            insert1=last[:last_index]\n",
    "                                            insert2=last[last_index+3:]\n",
    "                                            for pre_index in range(0,len(pre)-1):\n",
    "                                                pre[pre_index]=pre[pre_index]+'（'+insert2\n",
    "                                            pre[-1]=pre[-1]+insert1+'，'+insert2\n",
    "                                        else:\n",
    "                                            pre[-1]=pre[-1]+last\n",
    "                                else:\n",
    "                                    #如果长度只有1的话，也就是只有这一味中药的话\n",
    "                                    pre[0]=pre[0]+last\n",
    "                                \n",
    "                                jiliang[ji_index]=pre"
   ]
  },
  {
   "cell_type": "code",
   "execution_count": 68,
   "metadata": {},
   "outputs": [],
   "source": [
    "for key in dic.keys():\n",
    "    for name in dic[key].keys():\n",
    "        for cate in dic[key][name].keys():\n",
    "            if '内容' in dic[key][name][cate]:\n",
    "                temp=dic[key][name][cate]['内容']\n",
    "                for ii in range(0,len(temp)):\n",
    "                    i=temp[ii]\n",
    "                    if '切分中药剂量' in i:\n",
    "                        jiliang=i['切分中药剂量']\n",
    "                        temp_ji=[]\n",
    "                        for i in jiliang:\n",
    "                            if type(i)==list:\n",
    "                                temp_ji.extend(i)\n",
    "                            else:\n",
    "                                temp_ji.append(i)\n",
    "                                \n",
    "                        dic[key][name][cate]['内容'][ii]['切分中药剂量']=temp_ji"
   ]
  },
  {
   "cell_type": "code",
   "execution_count": 69,
   "metadata": {},
   "outputs": [],
   "source": [
    "#把  丹砂〔一/分/钱  格式的都转成  丹砂（一[分]钱\n",
    "for key in dic.keys():\n",
    "    for name in dic[key].keys():\n",
    "        for cate in dic[key][name].keys():\n",
    "            if '内容' in dic[key][name][cate]:\n",
    "                temp=dic[key][name][cate]['内容']\n",
    "                for ii in range(0,len(temp)):\n",
    "                    i=temp[ii]\n",
    "                    if '切分中药剂量' in i:\n",
    "                        jiliang=i['切分中药剂量']\n",
    "                        for ji_index in range(0,len(jiliang)):\n",
    "                            ji=jiliang[ji_index]\n",
    "                            if '/' in ji:\n",
    "                                temp_lst=ji.replace('〔','（')\n",
    "                                temp_lst=list(temp_lst)\n",
    "                                count=0\n",
    "                                for t_i in range(0,len(temp_lst)):\n",
    "                                    if count==0 and temp_lst[t_i]=='/':\n",
    "                                        temp_lst[t_i]='['\n",
    "                                        count+=1\n",
    "                                    elif count==1 and temp_lst[t_i]=='/':\n",
    "                                        temp_lst[t_i]=']'\n",
    "                                #print(''.join(temp_lst))\n",
    "                                dic[key][name][cate]['内容'][ii]['切分中药剂量'][ji_index]=''.join(temp_lst)"
   ]
  },
  {
   "cell_type": "code",
   "execution_count": 70,
   "metadata": {},
   "outputs": [],
   "source": [
    "#保存\n",
    "filename='初划分5.10.json'\n",
    "with open(filename,'w',encoding='utf-8') as file_obj:\n",
    "    json.dump(dic,file_obj,ensure_ascii=False,indent = 4)"
   ]
  },
  {
   "cell_type": "markdown",
   "metadata": {},
   "source": [
    " "
   ]
  },
  {
   "cell_type": "markdown",
   "metadata": {},
   "source": [
    "## 5.11"
   ]
  },
  {
   "cell_type": "code",
   "execution_count": 2,
   "metadata": {},
   "outputs": [],
   "source": [
    "#读取json中爬取的数据\n",
    "with open('初划分5.10.json',encoding=\"utf-8\") as file_obj:\n",
    "    dic=json.load(file_obj)"
   ]
  },
  {
   "cell_type": "code",
   "execution_count": 3,
   "metadata": {},
   "outputs": [],
   "source": [
    "new_dic={}\n",
    "for key in dic.keys():\n",
    "    new_dic[key]={}\n",
    "    for name in dic[key].keys():\n",
    "        new_dic[key][name]={}\n",
    "        for cate in dic[key][name].keys():\n",
    "            new_dic[key][name][cate]={}\n",
    "            if '内容' in dic[key][name][cate]:\n",
    "                new_dic[key][name][cate]['内容']=dic[key][name][cate]['内容']\n",
    "                temp=dic[key][name][cate]['内容']\n",
    "                for i in range(0,len(temp)):\n",
    "                    if '中药剂量' in temp[i]:\n",
    "                        del new_dic[key][name][cate]['内容'][i]['中药剂量']\n",
    "                        \n",
    "                    if '切分中药剂量' in temp[i]:\n",
    "                        temp_dic={}\n",
    "                        for item in temp[i]['切分中药剂量']:\n",
    "                            if '（' in item:\n",
    "                                index=item.index('（')\n",
    "                                item_name=item[:index]\n",
    "                                item_con=item[index+1:]\n",
    "                                temp_dic[item_name]=item_con\n",
    "                            else:\n",
    "                                temp_dic[item]='无'\n",
    "                                \n",
    "                        new_dic[key][name][cate]['内容'][i]['切分中药剂量']=temp_dic"
   ]
  },
  {
   "cell_type": "code",
   "execution_count": 4,
   "metadata": {},
   "outputs": [],
   "source": [
    "#保存\n",
    "filename='初划分5.11.json'\n",
    "with open(filename,'w',encoding='utf-8') as file_obj:\n",
    "    json.dump(dic,file_obj,ensure_ascii=False,indent = 4)"
   ]
  },
  {
   "cell_type": "code",
   "execution_count": 52,
   "metadata": {},
   "outputs": [],
   "source": [
    "#读取json中爬取的数据\n",
    "with open('初划分5.11.json',encoding=\"utf-8\") as file_obj:\n",
    "    new_dic=json.load(file_obj)"
   ]
  },
  {
   "cell_type": "code",
   "execution_count": 19,
   "metadata": {},
   "outputs": [],
   "source": [
    "import re"
   ]
  },
  {
   "cell_type": "code",
   "execution_count": 24,
   "metadata": {},
   "outputs": [],
   "source": [
    "def trans(count):\n",
    "    if count=='一':\n",
    "        return 1\n",
    "    elif count=='二' or count=='两':\n",
    "        return 2\n",
    "    elif count=='三':\n",
    "        return 3\n",
    "    elif count=='四':\n",
    "        return 4\n",
    "    elif count=='五':\n",
    "        return 5\n",
    "    elif count=='六':\n",
    "        return 6\n",
    "    elif count=='七':\n",
    "        return 7\n",
    "    elif count=='八':\n",
    "        return 8\n",
    "    elif count=='九':\n",
    "        return 9\n",
    "    elif count=='十':\n",
    "        return 10\n",
    "    elif count=='十八':\n",
    "        return 18\n",
    "    elif count=='十五':\n",
    "        return 15\n",
    "    elif count=='十二':\n",
    "        return 12\n",
    "    elif count=='十四':\n",
    "        return 14"
   ]
  },
  {
   "cell_type": "code",
   "execution_count": 53,
   "metadata": {
    "scrolled": true
   },
   "outputs": [],
   "source": [
    "#转换 以上各xx味\n",
    "for key in new_dic.keys():\n",
    "    for name in new_dic[key].keys():\n",
    "        for cate in new_dic[key][name].keys():\n",
    "            if '内容' in new_dic[key][name][cate]:\n",
    "                temp=new_dic[key][name][cate]['内容']\n",
    "                for i in range(0,len(temp)):\n",
    "                    if '切分中药剂量' in temp[i]:\n",
    "                        con=temp[i]['切分中药剂量']\n",
    "                        #print(con)\n",
    "                        con_key_lst=list(con.keys())\n",
    "                        for con_key in con.keys():\n",
    "                            #先 含以上几味各几两的 分配给以上几味中药\n",
    "                            match=re.search(r'[\\u4ee5]+[\\u4e0a]+[\\u4e00-\\u9fa5]+[\\u5473]', con[con_key], flags=0)\n",
    "                            if match:\n",
    "                                #print(con[con_key])\n",
    "                                index=con[con_key].index(match.group())\n",
    "                                insert=con[con_key][index+len(match.group()):]\n",
    "                                insert=insert.replace('各','')\n",
    "                                insert=insert.replace('以上','')\n",
    "                                count=trans(match.group()[2:-1])\n",
    "                                con[con_key]=con[con_key].replace(match.group(),'')\n",
    "                                con[con_key]=con[con_key].replace('各','')\n",
    "                                con[con_key]=con[con_key].replace('以上','')\n",
    "                                #print(insert)\n",
    "                                #print(match.group())\n",
    "                                \n",
    "                                if con_key_lst.index(con_key)+1<=count:\n",
    "                                    for cc in range(0,con_key_lst.index(con_key)):\n",
    "                                        con[con_key_lst[cc]]=con[con_key_lst[cc]].replace('无','')\n",
    "                                        con[con_key_lst[cc]]=con[con_key_lst[cc]]+insert\n",
    "                                else:\n",
    "                                    for cc in range(con_key_lst.index(con_key)-count+1,con_key_lst.index(con_key)):\n",
    "                                        con[con_key_lst[cc]]=con[con_key_lst[cc]].replace('无','')\n",
    "                                        con[con_key_lst[cc]]=con[con_key_lst[cc]]+insert\n",
    "                                new_dic[key][name][cate]['内容'][i]['切分中药剂量']=con"
   ]
  },
  {
   "cell_type": "code",
   "execution_count": 54,
   "metadata": {
    "scrolled": true
   },
   "outputs": [],
   "source": [
    "#转换 以上\n",
    "for key in new_dic.keys():\n",
    "    for name in new_dic[key].keys():\n",
    "        for cate in new_dic[key][name].keys():\n",
    "            if '内容' in new_dic[key][name][cate]:\n",
    "                temp=new_dic[key][name][cate]['内容']\n",
    "                for i in range(0,len(temp)):\n",
    "                    if '切分中药剂量' in temp[i]:\n",
    "                        con=temp[i]['切分中药剂量']\n",
    "                        con_lst=list(con.keys())\n",
    "                        flag_lst=[]\n",
    "                        count=0\n",
    "                        for con_key in con.keys():\n",
    "                            if '以上各' in con[con_key]:\n",
    "                                #print(con_key)\n",
    "                                #print(con)\n",
    "                                #print('a')\n",
    "                                count+=1\n",
    "                                flag_lst.append(con_key)\n",
    "                        if count>1:\n",
    "                            now_index=0\n",
    "                            for flag in flag_lst:\n",
    "                                index=con[flag].index('以上各')\n",
    "                                insert=con[flag][index+3:]\n",
    "                                insert=insert.replace('以上','')\n",
    "                                for flag_index in range(now_index,con_lst.index(flag)):\n",
    "                                    if con[con_lst[flag_index]]=='无':\n",
    "                                        con[con_lst[flag_index]]=insert\n",
    "                                    else:\n",
    "                                        if '两' in con[con_lst[flag_index]] or '钱' in con[con_lst[flag_index]] or '分' in con[con_lst[flag_index]]:\n",
    "                                            pass\n",
    "                                        else:\n",
    "                                            con[con_lst[flag_index]]=con[con_lst[flag_index]]+'，'+insert\n",
    "                                con[flag]=con[flag].replace('以上各','')\n",
    "                                now_index=con_lst.index(flag)+1\n",
    "                        elif count==1:\n",
    "                            con_key=flag_lst[0]\n",
    "                            index=con[con_key].index('以上各')\n",
    "                            insert=con[con_key][index+3:]\n",
    "                            insert=insert.replace('以上','')\n",
    "                            con[con_key]=con[con_key].replace('以上各','')\n",
    "                            for con_index in range(con_lst.index(con_key)-1,-1,-1):\n",
    "                                if con[con_lst[con_index]]=='无':\n",
    "                                    con[con_lst[con_index]]=insert\n",
    "                                else:\n",
    "                                    con[con_lst[con_index]]=con[con_lst[con_index]]+'，'+insert\n",
    "                                    \n",
    "                        if count>=1:\n",
    "                            new_dic[key][name][cate]['内容'][i]['切分中药剂量']=con"
   ]
  },
  {
   "cell_type": "code",
   "execution_count": 55,
   "metadata": {},
   "outputs": [],
   "source": [
    "#保存\n",
    "filename='初划分5.11_2.json'\n",
    "with open(filename,'w',encoding='utf-8') as file_obj:\n",
    "    json.dump(new_dic,file_obj,ensure_ascii=False,indent = 4)"
   ]
  },
  {
   "cell_type": "markdown",
   "metadata": {},
   "source": [
    "## 5.12"
   ]
  },
  {
   "cell_type": "code",
   "execution_count": 62,
   "metadata": {},
   "outputs": [],
   "source": [
    "#读取json中爬取的数据\n",
    "with open('初划分5.11_2.json',encoding=\"utf-8\") as file_obj:\n",
    "    new_dic=json.load(file_obj)"
   ]
  },
  {
   "cell_type": "code",
   "execution_count": 63,
   "metadata": {
    "scrolled": true
   },
   "outputs": [],
   "source": [
    "for key in new_dic.keys():\n",
    "    for name in new_dic[key].keys():\n",
    "        for cate in new_dic[key][name].keys():\n",
    "            if '内容' in new_dic[key][name][cate]:\n",
    "                temp=new_dic[key][name][cate]['内容']\n",
    "                for i in range(0,len(temp)):\n",
    "                    count=0\n",
    "                    if '切分中药剂量' in temp[i]:\n",
    "                        con=temp[i]['切分中药剂量']\n",
    "                        con_lst=list(con.keys())\n",
    "                        for con_key in con.keys():\n",
    "                            if '以上' in con[con_key] and '以上药' not in con[con_key]:\n",
    "                                #print(con)\n",
    "                                index=con[con_key].index('以上')\n",
    "                                insert=con[con_key][index+2:]\n",
    "                                if index!=0:\n",
    "                                    con[con_key]=con[con_key].replace('以上','，')\n",
    "                                else:\n",
    "                                    con[con_key]=con[con_key].replace('以上','')\n",
    "                                for con_index in range(0,con_lst.index(con_key)):\n",
    "                                    if con[con_lst[con_index]]=='无':\n",
    "                                        con[con_lst[con_index]]=insert\n",
    "                                    else:\n",
    "                                        con[con_lst[con_index]]=con[con_lst[con_index]]+'，'+insert\n",
    "                                new_dic[key][name][cate]['内容'][i]['切分中药剂量']=con"
   ]
  },
  {
   "cell_type": "code",
   "execution_count": null,
   "metadata": {},
   "outputs": [],
   "source": []
  },
  {
   "cell_type": "code",
   "execution_count": 64,
   "metadata": {},
   "outputs": [],
   "source": [
    "for key in new_dic.keys():\n",
    "    for name in new_dic[key].keys():\n",
    "        for cate in new_dic[key][name].keys():\n",
    "            if '内容' in new_dic[key][name][cate]:\n",
    "                temp=new_dic[key][name][cate]['内容']\n",
    "                for i in range(0,len(temp)):\n",
    "                    count=0\n",
    "                    if '切分中药剂量' in temp[i]:\n",
    "                        con=temp[i]['切分中药剂量']\n",
    "                        con_lst=list(con.keys())\n",
    "                        flag_lst=[]\n",
    "                        count=0\n",
    "                        for con_key in con.keys():\n",
    "                            if '各' in con[con_key]:\n",
    "                                count+=1\n",
    "                                flag_lst.append(con_key)\n",
    "                                \n",
    "                        if count>=1:\n",
    "                            #print(con)\n",
    "                            now_index=0\n",
    "                            for flag in flag_lst:\n",
    "                                index=con[flag].index('各')\n",
    "                                insert=con[flag][index+1:]\n",
    "                                for flag_index in range(now_index,con_lst.index(flag)):\n",
    "                                    if con[con_lst[flag_index]]=='无':\n",
    "                                        con[con_lst[flag_index]]=insert\n",
    "                                    else:\n",
    "                                        if '两' in con[con_lst[flag_index]] or '钱' in con[con_lst[flag_index]] or '分' in con[con_lst[flag_index]] or '磅' in con[con_lst[flag_index]] or '合' in con[con_lst[flag_index]] or '加' in con[con_lst[flag_index]] or '铢' in con[con_lst[flag_index]] or '升' in con[con_lst[flag_index]] or '斤' in con[con_lst[flag_index]]:\n",
    "                                            break\n",
    "                                        else:\n",
    "                                            con[con_lst[flag_index]]=con[con_lst[flag_index]]+'，'+insert\n",
    "                                con[flag]=con[flag].replace('各','')\n",
    "                                now_index=con_lst.index(flag)+1\n",
    "                                \n",
    "                            new_dic[key][name][cate]['内容'][i]['切分中药剂量']=con"
   ]
  },
  {
   "cell_type": "code",
   "execution_count": 65,
   "metadata": {},
   "outputs": [],
   "source": [
    "#保存\n",
    "filename='初划分5.12.json'\n",
    "with open(filename,'w',encoding='utf-8') as file_obj:\n",
    "    json.dump(new_dic,file_obj,ensure_ascii=False,indent = 4)"
   ]
  },
  {
   "cell_type": "code",
   "execution_count": 66,
   "metadata": {},
   "outputs": [],
   "source": [
    "select={}\n",
    "for key in new_dic.keys():\n",
    "    select[key]={}\n",
    "    for name in new_dic[key].keys():\n",
    "        select[key][name]={}\n",
    "        for cate in new_dic[key][name].keys():\n",
    "            select[key][name][cate]={}\n",
    "            if '内容' in new_dic[key][name][cate] and new_dic[key][name][cate]['内容']!=[]:\n",
    "                select[key][name][cate]['内容']=[]\n",
    "                temp=new_dic[key][name][cate]['内容']\n",
    "                for item in temp:\n",
    "                    if '切分中药剂量' in item:\n",
    "                        if len(item['切分中药剂量'])<=10 and '麝香' not in item['切分中药剂量'] and '麝香' not in item['切分中药剂量'] and '虎骨' not in item['切分中药剂量'] and '犀角' not in item['切分中药剂量'] and '龙诞香' not in item['切分中药剂量'] and '冬虫夏草' not in item['切分中药剂量']:\n",
    "                            select[key][name][cate]['内容'].append(item)\n",
    "                        else:\n",
    "                            pass\n",
    "                    else:\n",
    "                        select[key][name][cate]['内容'].append(item)"
   ]
  },
  {
   "cell_type": "code",
   "execution_count": 68,
   "metadata": {},
   "outputs": [],
   "source": [
    "#保存\n",
    "filename='普济方（部分.json'\n",
    "with open(filename,'w',encoding='utf-8') as file_obj:\n",
    "    json.dump(select,file_obj,ensure_ascii=False,indent = 4)"
   ]
  },
  {
   "cell_type": "code",
   "execution_count": 77,
   "metadata": {},
   "outputs": [],
   "source": [
    "for key in select.keys():\n",
    "    for name in select[key].keys():\n",
    "        for cate in select[key][name].keys():\n",
    "            if '内容' in select[key][name][cate]:\n",
    "                temp=select[key][name][cate]['内容']\n",
    "                for index in range(0,len(temp)):\n",
    "                    item=temp[index]\n",
    "                    if '中药及其剂量' in item:\n",
    "                        for con in item['中药及其剂量'].keys():\n",
    "                            if item['中药及其剂量'][con]=='':\n",
    "                                select[key][name][cate]['内容'][index]['中药及其剂量'][con]='无'\n",
    "                            if '（'==item['中药及其剂量'][con][0]:\n",
    "                                select[key][name][cate]['内容'][index]['中药及其剂量'][con]=item['中药及其剂量'][con][1:]"
   ]
  },
  {
   "cell_type": "code",
   "execution_count": 78,
   "metadata": {},
   "outputs": [],
   "source": [
    "#保存\n",
    "filename='普济方（部分.json'\n",
    "with open(filename,'w',encoding='utf-8') as file_obj:\n",
    "    json.dump(select,file_obj,ensure_ascii=False,indent = 4)"
   ]
  },
  {
   "cell_type": "code",
   "execution_count": null,
   "metadata": {},
   "outputs": [],
   "source": []
  }
 ],
 "metadata": {
  "kernelspec": {
   "display_name": "Python 3",
   "language": "python",
   "name": "python3"
  },
  "language_info": {
   "codemirror_mode": {
    "name": "ipython",
    "version": 3
   },
   "file_extension": ".py",
   "mimetype": "text/x-python",
   "name": "python",
   "nbconvert_exporter": "python",
   "pygments_lexer": "ipython3",
   "version": "3.8.8"
  }
 },
 "nbformat": 4,
 "nbformat_minor": 4
}
